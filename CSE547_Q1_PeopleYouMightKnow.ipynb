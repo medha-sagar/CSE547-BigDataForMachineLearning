{
  "nbformat": 4,
  "nbformat_minor": 0,
  "metadata": {
    "colab": {
      "name": "CSE547-Q1-PeopleYouMightKnow.ipynb",
      "provenance": [],
      "collapsed_sections": [],
      "authorship_tag": "ABX9TyPznesB1jcoz3T5wEKf4uEy",
      "include_colab_link": true
    },
    "kernelspec": {
      "name": "python3",
      "display_name": "Python 3"
    },
    "accelerator": "GPU"
  },
  "cells": [
    {
      "cell_type": "markdown",
      "metadata": {
        "id": "view-in-github",
        "colab_type": "text"
      },
      "source": [
        "<a href=\"https://colab.research.google.com/github/medha-sagar/CSE547-BigDataForMachineLearning/blob/master/CSE547_Q1_PeopleYouMightKnow.ipynb\" target=\"_parent\"><img src=\"https://colab.research.google.com/assets/colab-badge.svg\" alt=\"Open In Colab\"/></a>"
      ]
    },
    {
      "cell_type": "code",
      "metadata": {
        "id": "fy47jAd_YhhK",
        "colab_type": "code",
        "outputId": "77e5ef82-3d38-4774-e262-0659e4c9bf52",
        "colab": {
          "base_uri": "https://localhost:8080/",
          "height": 272
        }
      },
      "source": [
        "!pip install pyspark\n",
        "!pip install -U -q PyDrive\n",
        "!apt install openjdk-8-jdk-headless -qq\n",
        "import os\n",
        "os.environ[\"JAVA_HOME\"] = \"/usr/lib/jvm/java-8-openjdk-amd64\""
      ],
      "execution_count": 3,
      "outputs": [
        {
          "output_type": "stream",
          "text": [
            "Collecting pyspark\n",
            "\u001b[?25l  Downloading https://files.pythonhosted.org/packages/9a/5a/271c416c1c2185b6cb0151b29a91fff6fcaed80173c8584ff6d20e46b465/pyspark-2.4.5.tar.gz (217.8MB)\n",
            "\u001b[K     |████████████████████████████████| 217.8MB 69kB/s \n",
            "\u001b[?25hCollecting py4j==0.10.7\n",
            "\u001b[?25l  Downloading https://files.pythonhosted.org/packages/e3/53/c737818eb9a7dc32a7cd4f1396e787bd94200c3997c72c1dbe028587bd76/py4j-0.10.7-py2.py3-none-any.whl (197kB)\n",
            "\u001b[K     |████████████████████████████████| 204kB 61.0MB/s \n",
            "\u001b[?25hBuilding wheels for collected packages: pyspark\n",
            "  Building wheel for pyspark (setup.py) ... \u001b[?25l\u001b[?25hdone\n",
            "  Created wheel for pyspark: filename=pyspark-2.4.5-py2.py3-none-any.whl size=218257927 sha256=01d1ad60317e1f0200dea232a06000a53a7de1b75d77c8bfca6062bf92b2cd63\n",
            "  Stored in directory: /root/.cache/pip/wheels/bf/db/04/61d66a5939364e756eb1c1be4ec5bdce6e04047fc7929a3c3c\n",
            "Successfully built pyspark\n",
            "Installing collected packages: py4j, pyspark\n",
            "Successfully installed py4j-0.10.7 pyspark-2.4.5\n",
            "openjdk-8-jdk-headless is already the newest version (8u242-b08-0ubuntu3~18.04).\n",
            "0 upgraded, 0 newly installed, 0 to remove and 25 not upgraded.\n"
          ],
          "name": "stdout"
        }
      ]
    },
    {
      "cell_type": "code",
      "metadata": {
        "id": "QRuX4TC3ZRc5",
        "colab_type": "code",
        "colab": {}
      },
      "source": [
        "from pydrive.auth import GoogleAuth\n",
        "from pydrive.drive import GoogleDrive\n",
        "from google.colab import auth\n",
        "from oauth2client.client import GoogleCredentials\n",
        "\n",
        "# Authenticate and create the PyDrive client\n",
        "auth.authenticate_user()\n",
        "gauth = GoogleAuth()\n",
        "gauth.credentials = GoogleCredentials.get_application_default()\n",
        "drive = GoogleDrive(gauth)"
      ],
      "execution_count": 0,
      "outputs": []
    },
    {
      "cell_type": "code",
      "metadata": {
        "id": "4HKOjk8vfY6E",
        "colab_type": "code",
        "colab": {}
      },
      "source": [
        "id='19i-TnVx8qjX7q8XKdR59UbiA5_7Z5qLU'\n",
        "downloaded = drive.CreateFile({'id': id})\n",
        "downloaded.GetContentFile('soc-LiveJournal1Adj.txt')"
      ],
      "execution_count": 0,
      "outputs": []
    },
    {
      "cell_type": "code",
      "metadata": {
        "id": "EUNYidaUZgXQ",
        "colab_type": "code",
        "colab": {}
      },
      "source": [
        "import pyspark\n",
        "from pyspark.sql import *\n",
        "from pyspark.sql.functions import *\n",
        "from pyspark import SparkContext\n",
        "import pandas as pd\n",
        "import numpy as np\n",
        "import matplotlib.pyplot as plt\n",
        "%matplotlib inline\n",
        "\n",
        "# create the Spark Session\n",
        "spark = SparkSession.builder.getOrCreate()\n",
        "\n",
        "# create the Spark Context\n",
        "sc = spark.sparkContext"
      ],
      "execution_count": 0,
      "outputs": []
    },
    {
      "cell_type": "code",
      "metadata": {
        "id": "zv8Ip4vqfuvK",
        "colab_type": "code",
        "outputId": "6aae6f05-2f8d-40b8-8017-910fcb16034b",
        "colab": {
          "base_uri": "https://localhost:8080/",
          "height": 204
        }
      },
      "source": [
        "friend_data = spark.createDataFrame(\n",
        "    sc.textFile(\"soc-LiveJournal1Adj.txt\").map(lambda l: l.split('\\t')),\n",
        "    [\"person\",\"friends\"]\n",
        ")\n",
        "friend_data.show(5)"
      ],
      "execution_count": 8,
      "outputs": [
        {
          "output_type": "stream",
          "text": [
            "+------+--------------------+\n",
            "|person|             friends|\n",
            "+------+--------------------+\n",
            "|     0|1,2,3,4,5,6,7,8,9...|\n",
            "|     1|0,5,20,135,2409,8...|\n",
            "|     2|0,117,135,1220,27...|\n",
            "|     3|0,12,41,55,1532,1...|\n",
            "|     4|0,8,14,15,18,27,7...|\n",
            "+------+--------------------+\n",
            "only showing top 5 rows\n",
            "\n"
          ],
          "name": "stdout"
        }
      ]
    },
    {
      "cell_type": "code",
      "metadata": {
        "id": "q7IwtiUwgQQt",
        "colab_type": "code",
        "outputId": "3451f963-ed42-401a-df0d-b994182a735b",
        "colab": {
          "base_uri": "https://localhost:8080/",
          "height": 204
        }
      },
      "source": [
        "person_friend = friend_data.withColumn(\"friends\", explode(split(\"friends\", \"[,]\")) )\n",
        "person_friend.sort(person_friend.person).show(5)"
      ],
      "execution_count": 9,
      "outputs": [
        {
          "output_type": "stream",
          "text": [
            "+------+-------+\n",
            "|person|friends|\n",
            "+------+-------+\n",
            "|     0|      1|\n",
            "|     0|      2|\n",
            "|     0|      3|\n",
            "|     0|      4|\n",
            "|     0|      5|\n",
            "+------+-------+\n",
            "only showing top 5 rows\n",
            "\n"
          ],
          "name": "stdout"
        }
      ]
    },
    {
      "cell_type": "code",
      "metadata": {
        "id": "dbAnLhDUhLP-",
        "colab_type": "code",
        "outputId": "708152a8-125e-4061-97c2-7ffdc4ff267b",
        "colab": {
          "base_uri": "https://localhost:8080/",
          "height": 289
        }
      },
      "source": [
        "person_friend.registerTempTable(\"PersonFriend\")\n",
        "\n",
        "query =\"\"\"\n",
        "SELECT a.person, a.friends, b.friends as friend_of_friend\n",
        "FROM PersonFriend a INNER JOIN PersonFriend b\n",
        "ON b.person = a.friends\n",
        "GROUP BY a.person, a.friends, b.friends\n",
        "ORDER BY a.person, a.friends\n",
        "\"\"\"\n",
        "\n",
        "friend_of_a_friend = spark.sql(query)\n",
        "friend_of_a_friend.show(10)"
      ],
      "execution_count": 11,
      "outputs": [
        {
          "output_type": "stream",
          "text": [
            "+------+-------+----------------+\n",
            "|person|friends|friend_of_friend|\n",
            "+------+-------+----------------+\n",
            "|     0|      1|           12846|\n",
            "|     0|      1|            8715|\n",
            "|     0|      1|           12347|\n",
            "|     0|      1|              20|\n",
            "|     0|      1|            2409|\n",
            "|     0|      1|            8932|\n",
            "|     0|      1|           10623|\n",
            "|     0|      1|               0|\n",
            "|     0|      1|               5|\n",
            "|     0|      1|             135|\n",
            "+------+-------+----------------+\n",
            "only showing top 10 rows\n",
            "\n"
          ],
          "name": "stdout"
        }
      ]
    },
    {
      "cell_type": "code",
      "metadata": {
        "id": "DlltdlzloWad",
        "colab_type": "code",
        "outputId": "da961768-5f17-48d5-f227-42b694e10f13",
        "colab": {
          "base_uri": "https://localhost:8080/",
          "height": 459
        }
      },
      "source": [
        "friend_of_a_friend.registerTempTable(\"MutualFriends\")\n",
        "\n",
        "query = \"\"\"\n",
        "SELECT person, count(friends) as num_mutual_friends, friend_of_friend\n",
        "FROM MutualFriends\n",
        "WHERE person != friend_of_friend\n",
        "GROUP BY person, friend_of_friend\n",
        "ORDER BY person, friend_of_friend, count(friends)\n",
        "\"\"\"\n",
        "\n",
        "no_mutual_friends = spark.sql(query)\n",
        "no_mutual_friends.show()"
      ],
      "execution_count": 13,
      "outputs": [
        {
          "output_type": "stream",
          "text": [
            "+------+------------------+----------------+\n",
            "|person|num_mutual_friends|friend_of_friend|\n",
            "+------+------------------+----------------+\n",
            "|     0|                 2|               1|\n",
            "|     0|                 3|              10|\n",
            "|     0|                 1|           10001|\n",
            "|     0|                 1|            1001|\n",
            "|     0|                 1|           10014|\n",
            "|     0|                 1|           10018|\n",
            "|     0|                 1|           10020|\n",
            "|     0|                 1|           10023|\n",
            "|     0|                 1|           10025|\n",
            "|     0|                 1|           10038|\n",
            "|     0|                 1|           10041|\n",
            "|     0|                 1|           10042|\n",
            "|     0|                 1|           10045|\n",
            "|     0|                 1|           10048|\n",
            "|     0|                 1|           10055|\n",
            "|     0|                 1|           10058|\n",
            "|     0|                 1|           10059|\n",
            "|     0|                 1|           10063|\n",
            "|     0|                 1|           10066|\n",
            "|     0|                 1|           10077|\n",
            "+------+------------------+----------------+\n",
            "only showing top 20 rows\n",
            "\n"
          ],
          "name": "stdout"
        }
      ]
    },
    {
      "cell_type": "code",
      "metadata": {
        "id": "aPKOXeoyFOSc",
        "colab_type": "code",
        "outputId": "42eb21f9-d69c-486e-d3a2-33cc2772f6a6",
        "colab": {
          "base_uri": "https://localhost:8080/",
          "height": 459
        }
      },
      "source": [
        "no_mutual_friends.registerTempTable(\"NumMutualFriends\")\n",
        "\n",
        "query = \"\"\"\n",
        "SELECT a.person, a.friend_of_friend, a.num_mutual_friends\n",
        "FROM NumMutualFriends a\n",
        "WHERE a.friend_of_friend not in (SELECT friends FROM PersonFriend f where f.person = a.person)\n",
        "ORDER BY a.person, a.friend_of_friend, a.num_mutual_friends desc\n",
        "\"\"\"\n",
        "\n",
        "mutual_friends = spark.sql(query)\n",
        "mutual_friends.show()"
      ],
      "execution_count": 16,
      "outputs": [
        {
          "output_type": "stream",
          "text": [
            "+------+----------------+------------------+\n",
            "|person|friend_of_friend|num_mutual_friends|\n",
            "+------+----------------+------------------+\n",
            "|     0|           10001|                 1|\n",
            "|     0|            1001|                 1|\n",
            "|     0|           10014|                 1|\n",
            "|     0|           10018|                 1|\n",
            "|     0|           10020|                 1|\n",
            "|     0|           10023|                 1|\n",
            "|     0|           10025|                 1|\n",
            "|     0|           10038|                 1|\n",
            "|     0|           10041|                 1|\n",
            "|     0|           10042|                 1|\n",
            "|     0|           10045|                 1|\n",
            "|     0|           10048|                 1|\n",
            "|     0|           10055|                 1|\n",
            "|     0|           10058|                 1|\n",
            "|     0|           10059|                 1|\n",
            "|     0|           10063|                 1|\n",
            "|     0|           10066|                 1|\n",
            "|     0|           10077|                 1|\n",
            "|     0|           10086|                 1|\n",
            "|     0|           10089|                 1|\n",
            "+------+----------------+------------------+\n",
            "only showing top 20 rows\n",
            "\n"
          ],
          "name": "stdout"
        }
      ]
    },
    {
      "cell_type": "code",
      "metadata": {
        "id": "XkPRokXJRSBD",
        "colab_type": "code",
        "outputId": "fc480417-a795-4ca8-af3c-16a7b54ff8bf",
        "colab": {
          "base_uri": "https://localhost:8080/",
          "height": 459
        }
      },
      "source": [
        "mutual_friends.filter(mutual_friends.person==11).orderBy(mutual_friends.num_mutual_friends.desc(), mutual_friends.friend_of_friend).show()"
      ],
      "execution_count": 18,
      "outputs": [
        {
          "output_type": "stream",
          "text": [
            "+------+----------------+------------------+\n",
            "|person|friend_of_friend|num_mutual_friends|\n",
            "+------+----------------+------------------+\n",
            "|    11|           27552|                 4|\n",
            "|    11|           27573|                 3|\n",
            "|    11|           27574|                 3|\n",
            "|    11|           27589|                 3|\n",
            "|    11|           27590|                 3|\n",
            "|    11|           27600|                 3|\n",
            "|    11|           27617|                 3|\n",
            "|    11|           27620|                 3|\n",
            "|    11|           27667|                 3|\n",
            "|    11|           32072|                 3|\n",
            "|    11|           33192|                 3|\n",
            "|    11|            7785|                 3|\n",
            "|    11|              10|                 2|\n",
            "|    11|           10253|                 2|\n",
            "|    11|           10782|                 2|\n",
            "|    11|             110|                 2|\n",
            "|    11|              12|                 2|\n",
            "|    11|           12666|                 2|\n",
            "|    11|            1797|                 2|\n",
            "|    11|            2141|                 2|\n",
            "+------+----------------+------------------+\n",
            "only showing top 20 rows\n",
            "\n"
          ],
          "name": "stdout"
        }
      ]
    },
    {
      "cell_type": "code",
      "metadata": {
        "id": "y6THCcD2Sglf",
        "colab_type": "code",
        "colab": {
          "base_uri": "https://localhost:8080/",
          "height": 221
        },
        "outputId": "1716b1d0-f479-451f-8c93-033e59ea7414"
      },
      "source": [
        "mutual_friends.filter(mutual_friends.person==924).sort(mutual_friends.num_mutual_friends.desc()).sort(mutual_friends.friend_of_friend).show()\n",
        "#439, 2409, 6995, 11860, 15416, 43748, 43748"
      ],
      "execution_count": 24,
      "outputs": [
        {
          "output_type": "stream",
          "text": [
            "+------+----------------+------------------+\n",
            "|person|friend_of_friend|num_mutual_friends|\n",
            "+------+----------------+------------------+\n",
            "|   924|           11860|                 1|\n",
            "|   924|           15416|                 1|\n",
            "|   924|            2409|                 1|\n",
            "|   924|           43748|                 1|\n",
            "|   924|             439|                 1|\n",
            "|   924|           45881|                 1|\n",
            "|   924|            6995|                 1|\n",
            "+------+----------------+------------------+\n",
            "\n"
          ],
          "name": "stdout"
        }
      ]
    },
    {
      "cell_type": "code",
      "metadata": {
        "id": "oiDhuEKagguv",
        "colab_type": "code",
        "colab": {
          "base_uri": "https://localhost:8080/",
          "height": 153
        },
        "outputId": "185413af-1c8a-4b50-9531-ad628e85fc3f"
      },
      "source": [
        "mutual_friends.filter(mutual_friends.person==8941).sort(mutual_friends.num_mutual_friends.desc(), mutual_friends.friend_of_friend).show()\n",
        "# 8943 8944 8940"
      ],
      "execution_count": 26,
      "outputs": [
        {
          "output_type": "stream",
          "text": [
            "+------+----------------+------------------+\n",
            "|person|friend_of_friend|num_mutual_friends|\n",
            "+------+----------------+------------------+\n",
            "|  8941|            8943|                 2|\n",
            "|  8941|            8944|                 2|\n",
            "|  8941|            8940|                 1|\n",
            "+------+----------------+------------------+\n",
            "\n"
          ],
          "name": "stdout"
        }
      ]
    },
    {
      "cell_type": "code",
      "metadata": {
        "id": "zuVSQlkihCLB",
        "colab_type": "code",
        "colab": {
          "base_uri": "https://localhost:8080/",
          "height": 170
        },
        "outputId": "28494fac-c0dd-4b0b-d036-b69cd9c36d19"
      },
      "source": [
        "mutual_friends.filter(mutual_friends.person==8942).sort(mutual_friends.num_mutual_friends.desc(), mutual_friends.friend_of_friend).show()\n",
        "# 8939 8940 8943 8944"
      ],
      "execution_count": 27,
      "outputs": [
        {
          "output_type": "stream",
          "text": [
            "+------+----------------+------------------+\n",
            "|person|friend_of_friend|num_mutual_friends|\n",
            "+------+----------------+------------------+\n",
            "|  8942|            8939|                 3|\n",
            "|  8942|            8940|                 1|\n",
            "|  8942|            8943|                 1|\n",
            "|  8942|            8944|                 1|\n",
            "+------+----------------+------------------+\n",
            "\n"
          ],
          "name": "stdout"
        }
      ]
    },
    {
      "cell_type": "code",
      "metadata": {
        "id": "nH22ZlKrhOmh",
        "colab_type": "code",
        "colab": {
          "base_uri": "https://localhost:8080/",
          "height": 153
        },
        "outputId": "524fb606-18ca-4eae-f521-597fcdce2fd0"
      },
      "source": [
        "mutual_friends.filter(mutual_friends.person==9019).sort(mutual_friends.num_mutual_friends.desc(), mutual_friends.friend_of_friend).show()\n",
        "# 9022 317 9023"
      ],
      "execution_count": 30,
      "outputs": [
        {
          "output_type": "stream",
          "text": [
            "+------+----------------+------------------+\n",
            "|person|friend_of_friend|num_mutual_friends|\n",
            "+------+----------------+------------------+\n",
            "|  9019|            9022|                 2|\n",
            "|  9019|             317|                 1|\n",
            "|  9019|            9023|                 1|\n",
            "+------+----------------+------------------+\n",
            "\n"
          ],
          "name": "stdout"
        }
      ]
    },
    {
      "cell_type": "code",
      "metadata": {
        "id": "JBcnEgfthYw_",
        "colab_type": "code",
        "colab": {
          "base_uri": "https://localhost:8080/",
          "height": 204
        },
        "outputId": "8f5d2d92-13aa-485c-f7aa-cf23577a4cf8"
      },
      "source": [
        "#9020\n",
        "mutual_friends.filter(mutual_friends.person==9020).sort(mutual_friends.num_mutual_friends.desc(), mutual_friends.friend_of_friend).show()\n",
        "# 9021 9016 9017 9022 317 9023"
      ],
      "execution_count": 31,
      "outputs": [
        {
          "output_type": "stream",
          "text": [
            "+------+----------------+------------------+\n",
            "|person|friend_of_friend|num_mutual_friends|\n",
            "+------+----------------+------------------+\n",
            "|  9020|            9021|                 3|\n",
            "|  9020|            9016|                 2|\n",
            "|  9020|            9017|                 2|\n",
            "|  9020|            9022|                 2|\n",
            "|  9020|             317|                 1|\n",
            "|  9020|            9023|                 1|\n",
            "+------+----------------+------------------+\n",
            "\n"
          ],
          "name": "stdout"
        }
      ]
    },
    {
      "cell_type": "code",
      "metadata": {
        "id": "emIIeqhynpPr",
        "colab_type": "code",
        "colab": {
          "base_uri": "https://localhost:8080/",
          "height": 204
        },
        "outputId": "c17be349-5441-4740-c9b1-82be112bfd94"
      },
      "source": [
        "#9021\n",
        "mutual_friends.filter(mutual_friends.person==9021).sort(mutual_friends.num_mutual_friends.desc(), mutual_friends.friend_of_friend).show()\n",
        "# 9020 9016 9017 9022 317 9023"
      ],
      "execution_count": 34,
      "outputs": [
        {
          "output_type": "stream",
          "text": [
            "+------+----------------+------------------+\n",
            "|person|friend_of_friend|num_mutual_friends|\n",
            "+------+----------------+------------------+\n",
            "|  9021|            9020|                 3|\n",
            "|  9021|            9016|                 2|\n",
            "|  9021|            9017|                 2|\n",
            "|  9021|            9022|                 2|\n",
            "|  9021|             317|                 1|\n",
            "|  9021|            9023|                 1|\n",
            "+------+----------------+------------------+\n",
            "\n"
          ],
          "name": "stdout"
        }
      ]
    },
    {
      "cell_type": "code",
      "metadata": {
        "id": "yh3-SjShnpY7",
        "colab_type": "code",
        "colab": {
          "base_uri": "https://localhost:8080/",
          "height": 221
        },
        "outputId": "d7dad929-44a0-4456-bee6-ecb008e4a100"
      },
      "source": [
        "#9022\n",
        "mutual_friends.filter(mutual_friends.person==9022).sort(mutual_friends.num_mutual_friends.desc(), mutual_friends.friend_of_friend).show()\n",
        "#9019 9020 9021 317 9016 9017 9023"
      ],
      "execution_count": 36,
      "outputs": [
        {
          "output_type": "stream",
          "text": [
            "+------+----------------+------------------+\n",
            "|person|friend_of_friend|num_mutual_friends|\n",
            "+------+----------------+------------------+\n",
            "|  9022|            9019|                 2|\n",
            "|  9022|            9020|                 2|\n",
            "|  9022|            9021|                 2|\n",
            "|  9022|             317|                 1|\n",
            "|  9022|            9016|                 1|\n",
            "|  9022|            9017|                 1|\n",
            "|  9022|            9023|                 1|\n",
            "+------+----------------+------------------+\n",
            "\n"
          ],
          "name": "stdout"
        }
      ]
    },
    {
      "cell_type": "code",
      "metadata": {
        "id": "Nhc6qiBNnpnk",
        "colab_type": "code",
        "colab": {
          "base_uri": "https://localhost:8080/",
          "height": 221
        },
        "outputId": "f51265f3-4e6a-4f03-813e-87c1592e4def"
      },
      "source": [
        "#9990\n",
        "mutual_friends.filter(mutual_friends.person==9990).sort(mutual_friends.num_mutual_friends.desc(), mutual_friends.friend_of_friend).show()\n",
        "# 13134 13478 13877 34299 34485 34642 37941"
      ],
      "execution_count": 38,
      "outputs": [
        {
          "output_type": "stream",
          "text": [
            "+------+----------------+------------------+\n",
            "|person|friend_of_friend|num_mutual_friends|\n",
            "+------+----------------+------------------+\n",
            "|  9990|           13134|                 1|\n",
            "|  9990|           13478|                 1|\n",
            "|  9990|           13877|                 1|\n",
            "|  9990|           34299|                 1|\n",
            "|  9990|           34485|                 1|\n",
            "|  9990|           34642|                 1|\n",
            "|  9990|           37941|                 1|\n",
            "+------+----------------+------------------+\n",
            "\n"
          ],
          "name": "stdout"
        }
      ]
    },
    {
      "cell_type": "code",
      "metadata": {
        "id": "jcYA76rhjhlW",
        "colab_type": "code",
        "colab": {
          "base_uri": "https://localhost:8080/",
          "height": 170
        },
        "outputId": "b50452d9-a4bc-437f-d9ef-c18affdc8d97"
      },
      "source": [
        "#9992\n",
        "mutual_friends.filter(mutual_friends.person==9992).sort(mutual_friends.num_mutual_friends.desc(), mutual_friends.friend_of_friend).show()\n",
        "# 9987 9989 35667 9991"
      ],
      "execution_count": 32,
      "outputs": [
        {
          "output_type": "stream",
          "text": [
            "+------+----------------+------------------+\n",
            "|person|friend_of_friend|num_mutual_friends|\n",
            "+------+----------------+------------------+\n",
            "|  9992|            9987|                 4|\n",
            "|  9992|            9989|                 4|\n",
            "|  9992|           35667|                 3|\n",
            "|  9992|            9991|                 2|\n",
            "+------+----------------+------------------+\n",
            "\n"
          ],
          "name": "stdout"
        }
      ]
    },
    {
      "cell_type": "code",
      "metadata": {
        "id": "QnbhFsr4jsr7",
        "colab_type": "code",
        "colab": {
          "base_uri": "https://localhost:8080/",
          "height": 238
        },
        "outputId": "a00c9b40-d6da-4b31-c262-66cf76b7b64f"
      },
      "source": [
        "#9993\n",
        "mutual_friends.filter(mutual_friends.person==9993).sort(mutual_friends.num_mutual_friends.desc(), mutual_friends.friend_of_friend).show()\n",
        "# 9991 13134 13478 34299 34485 34642 37941"
      ],
      "execution_count": 33,
      "outputs": [
        {
          "output_type": "stream",
          "text": [
            "+------+----------------+------------------+\n",
            "|person|friend_of_friend|num_mutual_friends|\n",
            "+------+----------------+------------------+\n",
            "|  9993|            9991|                 5|\n",
            "|  9993|           13134|                 1|\n",
            "|  9993|           13478|                 1|\n",
            "|  9993|           13877|                 1|\n",
            "|  9993|           34299|                 1|\n",
            "|  9993|           34485|                 1|\n",
            "|  9993|           34642|                 1|\n",
            "|  9993|           37941|                 1|\n",
            "+------+----------------+------------------+\n",
            "\n"
          ],
          "name": "stdout"
        }
      ]
    }
  ]
}