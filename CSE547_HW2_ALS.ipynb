{
  "nbformat": 4,
  "nbformat_minor": 0,
  "metadata": {
    "colab": {
      "name": "CSE547-HW2-ALS.ipynb",
      "provenance": [],
      "collapsed_sections": [],
      "toc_visible": true,
      "include_colab_link": true
    },
    "kernelspec": {
      "name": "python3",
      "display_name": "Python 3"
    }
  },
  "cells": [
    {
      "cell_type": "markdown",
      "metadata": {
        "id": "view-in-github",
        "colab_type": "text"
      },
      "source": [
        "<a href=\"https://colab.research.google.com/github/medha-sagar/CSE547-BigDataForMachineLearning/blob/master/CSE547_HW2_ALS.ipynb\" target=\"_parent\"><img src=\"https://colab.research.google.com/assets/colab-badge.svg\" alt=\"Open In Colab\"/></a>"
      ]
    },
    {
      "cell_type": "markdown",
      "metadata": {
        "id": "kPt5q27L5557",
        "colab_type": "text"
      },
      "source": [
        "# CSE547 - ALS\n",
        "\n",
        "Adapted from Stanford's CS246"
      ]
    },
    {
      "cell_type": "markdown",
      "metadata": {
        "id": "p0-YhEpP_Ds-",
        "colab_type": "text"
      },
      "source": [
        "# Setup"
      ]
    },
    {
      "cell_type": "code",
      "metadata": {
        "id": "k-qHai2252mI",
        "colab_type": "code",
        "outputId": "74edd9c6-31f6-4be6-8843-ccbad2f2d433",
        "colab": {
          "base_uri": "https://localhost:8080/",
          "height": 85
        }
      },
      "source": [
        "!pip install pyspark\n",
        "!pip install -U -q PyDrive\n",
        "!apt install openjdk-8-jdk-headless -qq\n",
        "import os\n",
        "os.environ[\"JAVA_HOME\"] = \"/usr/lib/jvm/java-8-openjdk-amd64\""
      ],
      "execution_count": 0,
      "outputs": [
        {
          "output_type": "stream",
          "text": [
            "Requirement already satisfied: pyspark in /usr/local/lib/python3.6/dist-packages (2.4.5)\n",
            "Requirement already satisfied: py4j==0.10.7 in /usr/local/lib/python3.6/dist-packages (from pyspark) (0.10.7)\n",
            "openjdk-8-jdk-headless is already the newest version (8u242-b08-0ubuntu3~18.04).\n",
            "0 upgraded, 0 newly installed, 0 to remove and 25 not upgraded.\n"
          ],
          "name": "stdout"
        }
      ]
    },
    {
      "cell_type": "markdown",
      "metadata": {
        "id": "PUUjUvXe3Sjk",
        "colab_type": "text"
      },
      "source": [
        "Now we authenticate a Google Drive client to download the file we will be processing in our Spark job."
      ]
    },
    {
      "cell_type": "code",
      "metadata": {
        "id": "lRElWs_x2mGh",
        "colab_type": "code",
        "colab": {}
      },
      "source": [
        "from pydrive.auth import GoogleAuth\n",
        "from pydrive.drive import GoogleDrive\n",
        "from google.colab import auth\n",
        "from oauth2client.client import GoogleCredentials\n",
        "\n",
        "# Authenticate and create the PyDrive client\n",
        "auth.authenticate_user()\n",
        "gauth = GoogleAuth()\n",
        "gauth.credentials = GoogleCredentials.get_application_default()\n",
        "drive = GoogleDrive(gauth)"
      ],
      "execution_count": 0,
      "outputs": []
    },
    {
      "cell_type": "code",
      "metadata": {
        "id": "QHsFTGUy2n1c",
        "colab_type": "code",
        "colab": {}
      },
      "source": [
        "id='1Av3kW63qnjOgkVZKVum2yYih9UNwhlhM'\n",
        "downloaded = drive.CreateFile({'id': id})\n",
        "downloaded.GetContentFile('artists.txt')\n",
        "\n",
        "id='1-ribwL4DktJtxpuku2PpmtNGb_Ra6gh6'\n",
        "downloaded = drive.CreateFile({'id': id})\n",
        "downloaded.GetContentFile('user-artists.txt')\n"
      ],
      "execution_count": 0,
      "outputs": []
    },
    {
      "cell_type": "markdown",
      "metadata": {
        "id": "qwtlO4_m_LbQ",
        "colab_type": "text"
      },
      "source": [
        "Next, we import some of the common libraries needed for our task."
      ]
    },
    {
      "cell_type": "code",
      "metadata": {
        "id": "twk-K-jilWK7",
        "colab_type": "code",
        "colab": {}
      },
      "source": [
        "import pandas as pd\n",
        "import numpy as np\n",
        "import matplotlib.pyplot as plt\n",
        "%matplotlib inline\n",
        "\n",
        "import pyspark\n",
        "from pyspark.sql import *\n",
        "from pyspark.sql.types import *\n",
        "from pyspark.sql.functions import *\n",
        "from pyspark import SparkContext, SparkConf\n",
        "from pyspark.sql import SQLContext\n",
        "import pandas as pd\n",
        "from itertools import product"
      ],
      "execution_count": 0,
      "outputs": []
    },
    {
      "cell_type": "markdown",
      "metadata": {
        "colab_type": "text",
        "id": "BtrJlMBt1Ela"
      },
      "source": [
        "Let's initialize the Spark context."
      ]
    },
    {
      "cell_type": "code",
      "metadata": {
        "colab_type": "code",
        "id": "Vm3sAVeK1EDZ",
        "colab": {}
      },
      "source": [
        "# create the session\n",
        "conf = SparkConf().set(\"spark.ui.port\", \"4050\")\n",
        "\n",
        "# create the context\n",
        "sc = pyspark.SparkContext(conf=conf)\n",
        "spark = SparkSession.builder.getOrCreate()\n",
        "\n",
        "sqlContext = SQLContext(sc)"
      ],
      "execution_count": 0,
      "outputs": []
    },
    {
      "cell_type": "code",
      "metadata": {
        "id": "GDlph2V-zJRn",
        "colab_type": "code",
        "colab": {}
      },
      "source": [
        "from pyspark.sql import SQLContext\n",
        "sqlContext = SQLContext(sc)\n"
      ],
      "execution_count": 0,
      "outputs": []
    },
    {
      "cell_type": "markdown",
      "metadata": {
        "colab_type": "text",
        "id": "Iid7lXcG1CY8"
      },
      "source": [
        "If you are running this Colab on the Google hosted runtime, the cell below will create a *ngrok* tunnel which will allow you to still check the Spark UI."
      ]
    },
    {
      "cell_type": "code",
      "metadata": {
        "colab_type": "code",
        "id": "sDnGLVPH1BPQ",
        "outputId": "54162784-c5e9-4ba5-d303-81394821be0c",
        "colab": {
          "base_uri": "https://localhost:8080/",
          "height": 255
        }
      },
      "source": [
        "!wget https://bin.equinox.io/c/4VmDzA7iaHb/ngrok-stable-linux-amd64.zip\n",
        "!unzip ngrok-stable-linux-amd64.zip\n",
        "get_ipython().system_raw('./ngrok http 4050 &')\n",
        "!curl -s http://localhost:4040/api/tunnels | python3 -c \\\n",
        "    \"import sys, json; print(json.load(sys.stdin)['tunnels'][0]['public_url'])\""
      ],
      "execution_count": 0,
      "outputs": [
        {
          "output_type": "stream",
          "text": [
            "--2020-04-28 23:03:27--  https://bin.equinox.io/c/4VmDzA7iaHb/ngrok-stable-linux-amd64.zip\n",
            "Resolving bin.equinox.io (bin.equinox.io)... 52.3.89.125, 34.196.12.177, 3.227.142.238, ...\n",
            "Connecting to bin.equinox.io (bin.equinox.io)|52.3.89.125|:443... connected.\n",
            "HTTP request sent, awaiting response... 200 OK\n",
            "Length: 13773305 (13M) [application/octet-stream]\n",
            "Saving to: ‘ngrok-stable-linux-amd64.zip’\n",
            "\n",
            "ngrok-stable-linux- 100%[===================>]  13.13M  14.0MB/s    in 0.9s    \n",
            "\n",
            "2020-04-28 23:03:28 (14.0 MB/s) - ‘ngrok-stable-linux-amd64.zip’ saved [13773305/13773305]\n",
            "\n",
            "Archive:  ngrok-stable-linux-amd64.zip\n",
            "  inflating: ngrok                   \n",
            "http://e50c5bb7.ngrok.io\n"
          ],
          "name": "stdout"
        }
      ]
    },
    {
      "cell_type": "markdown",
      "metadata": {
        "id": "kAYRX2PMm0L6",
        "colab_type": "text"
      },
      "source": [
        "# Data Loading"
      ]
    },
    {
      "cell_type": "code",
      "metadata": {
        "id": "5K93ABEy9Zlo",
        "colab_type": "code",
        "colab": {}
      },
      "source": [
        "user_artist = spark.read.option(\"sep\", \"\\t\").csv(\"user-artists.txt\", header=True)\n",
        "artists = spark.read.option(\"sep\", \"\\t\").csv(\"artists.txt\", header=True)"
      ],
      "execution_count": 0,
      "outputs": []
    },
    {
      "cell_type": "code",
      "metadata": {
        "id": "zlldZxGyNHez",
        "colab_type": "code",
        "colab": {}
      },
      "source": [
        "user_artist = pd.read_csv(\"user-artists.txt\", sep = \"\\t\")\n",
        "artists = pd.read_csv(\"artists.txt\", sep = \"\\t\")"
      ],
      "execution_count": 0,
      "outputs": []
    },
    {
      "cell_type": "markdown",
      "metadata": {
        "id": "YNQZYbRqnCWA",
        "colab_type": "text"
      },
      "source": [
        "# Create User Item Matrix"
      ]
    },
    {
      "cell_type": "code",
      "metadata": {
        "id": "wjrgXceGqy2j",
        "colab_type": "code",
        "colab": {}
      },
      "source": [
        "#Get unique artists and users\n",
        "unique_users  = sorted(user_artist['userID'].unique())\n",
        "unique_artists  = sorted(artists['artistID'].unique())"
      ],
      "execution_count": 0,
      "outputs": []
    },
    {
      "cell_type": "code",
      "metadata": {
        "id": "aOzUkK1_r3T6",
        "colab_type": "code",
        "colab": {}
      },
      "source": [
        "#Create All user-artist pairs\n",
        "user_artist_pair = list(product(unique_users, unique_artists))\n",
        "user_artist_pair_df = pd.DataFrame.from_records(user_artist_pair)"
      ],
      "execution_count": 0,
      "outputs": []
    },
    {
      "cell_type": "code",
      "metadata": {
        "id": "uZI5pKM2uSsh",
        "colab_type": "code",
        "outputId": "4d0158bf-94a8-4746-ad80-705cd117494b",
        "colab": {
          "base_uri": "https://localhost:8080/",
          "height": 34
        }
      },
      "source": [
        "#Create User-Item Matrix \n",
        "user_artist_pair_df.columns = ['userID', 'artistID']\n",
        "master = pd.merge(user_artist_pair_df, user_artist, how=\"left\", on = ['userID', 'artistID'])\n",
        "\n",
        "master = master.fillna(0)\n",
        "master.shape"
      ],
      "execution_count": 0,
      "outputs": [
        {
          "output_type": "execute_result",
          "data": {
            "text/plain": [
              "(5646000, 4)"
            ]
          },
          "metadata": {
            "tags": []
          },
          "execution_count": 17
        }
      ]
    },
    {
      "cell_type": "markdown",
      "metadata": {
        "id": "gvzSHWnJnL11",
        "colab_type": "text"
      },
      "source": [
        "# Calculate Sparsity Ratio"
      ]
    },
    {
      "cell_type": "code",
      "metadata": {
        "id": "1qv738MAxfEY",
        "colab_type": "code",
        "outputId": "97ab4e0f-ddff-4544-901c-55a671db041f",
        "colab": {
          "base_uri": "https://localhost:8080/",
          "height": 34
        }
      },
      "source": [
        "non_zero = master[master['interactions'] > 0]\n",
        "sparsity_ratio = len(non_zero)/master[master[\"interactions\"] == 0].shape[0]"
      ],
      "execution_count": 0,
      "outputs": [
        {
          "output_type": "execute_result",
          "data": {
            "text/plain": [
              "62894"
            ]
          },
          "metadata": {
            "tags": []
          },
          "execution_count": 18
        }
      ]
    },
    {
      "cell_type": "code",
      "metadata": {
        "id": "bRfW2Vc-YpUo",
        "colab_type": "code",
        "outputId": "0dd6ea1d-3013-4612-e461-00833d68fa38",
        "colab": {
          "base_uri": "https://localhost:8080/",
          "height": 34
        }
      },
      "source": [
        "sparsity_ratio"
      ],
      "execution_count": 0,
      "outputs": [
        {
          "output_type": "execute_result",
          "data": {
            "text/plain": [
              "0.011265055687640536"
            ]
          },
          "metadata": {
            "tags": []
          },
          "execution_count": 20
        }
      ]
    },
    {
      "cell_type": "markdown",
      "metadata": {
        "id": "woWTfyCRnZJB",
        "colab_type": "text"
      },
      "source": [
        "# Create Initial Pui Matrix"
      ]
    },
    {
      "cell_type": "code",
      "metadata": {
        "id": "Q9No7sdhDklJ",
        "colab_type": "code",
        "outputId": "56c33acb-bb66-4d31-d195-51592d457cb8",
        "colab": {
          "base_uri": "https://localhost:8080/",
          "height": 34
        }
      },
      "source": [
        "#Pivot the user matrix \n",
        "R = master.drop(\"preference\", axis = 1)\n",
        "R = R.pivot_table(index='userID', columns='artistID', values='interactions')\n",
        "R.shape"
      ],
      "execution_count": 0,
      "outputs": [
        {
          "output_type": "execute_result",
          "data": {
            "text/plain": [
              "(1882, 3000)"
            ]
          },
          "metadata": {
            "tags": []
          },
          "execution_count": 21
        }
      ]
    },
    {
      "cell_type": "code",
      "metadata": {
        "id": "MVJQrGbOpLyA",
        "colab_type": "code",
        "colab": {}
      },
      "source": [
        "#Preference Matrix\n",
        "P = R>0\n",
        "P[P == True] = 1 \n",
        "P[P == False] = 0\n",
        "P = P.astype(np.float64, copy=False)"
      ],
      "execution_count": 0,
      "outputs": []
    },
    {
      "cell_type": "markdown",
      "metadata": {
        "id": "xxGkLpR1npKa",
        "colab_type": "text"
      },
      "source": [
        "# ALS"
      ]
    },
    {
      "cell_type": "code",
      "metadata": {
        "id": "h6Gg7Rkc_kp7",
        "colab_type": "code",
        "colab": {}
      },
      "source": [
        "#Error Function\n",
        "def get_error(P, X, Y, R, lambda_):\n",
        "  pred = np.dot(X, Y)\n",
        "  #print(\"Min\", np.min(pred))\n",
        "  #print(\"Max\", np.max(pred))\n",
        "  return (np.sum(R * ((P - pred)** 2)) + lambda_*np.linalg.norm(X)**2 + lambda_*np.linalg.norm(Y)**2)"
      ],
      "execution_count": 0,
      "outputs": []
    },
    {
      "cell_type": "code",
      "metadata": {
        "id": "NoszAP2YHd4w",
        "colab_type": "code",
        "colab": {}
      },
      "source": [
        "m,n  = R.shape\n",
        "\n",
        "n_factors = 5 \n",
        "\n",
        "lambda_ = 0.1\n",
        "\n",
        "X = np.zeros((m,5))\n",
        "X.fill(0.5)\n",
        "Y = np.zeros((n,5))\n",
        "\n",
        "n_iterations = 30\n",
        "\n",
        "\n",
        "R = np.asarray(R)\n",
        "P = np.asarray(P)\n",
        "A = R.copy()\n",
        "R = 1 + sparsity_ratio*A"
      ],
      "execution_count": 0,
      "outputs": []
    },
    {
      "cell_type": "code",
      "metadata": {
        "id": "YAwEBaZ-_aa3",
        "colab_type": "code",
        "outputId": "00dcb46b-e1f7-4f63-c7a9-52d4a908c039",
        "colab": {
          "base_uri": "https://localhost:8080/",
          "height": 1000
        }
      },
      "source": [
        "cost_list = [get_error(P, X, Y, R, lambda_)]\n",
        "\n",
        "for iterr in range(n_iterations):\n",
        "  print(iterr)\n",
        "  \n",
        "  for i, Ri in enumerate(R.T):\n",
        "    c_ui = Ri\n",
        "    c_i = np.zeros((m,m))\n",
        "    np.fill_diagonal(c_i, c_ui)\n",
        "    \n",
        "    ci_x = np.dot(c_i,X)\n",
        "    xt_ci_x = np.dot(X.T, ci_x)\n",
        "    lamb_eye = lambda_*(np.identity(n_factors))\n",
        "    inv = np.linalg.inv(xt_ci_x + lamb_eye)\n",
        "    inv_xt = np.dot(inv, X.T)\n",
        "    inv_xt_ci = np.dot(np.dot(inv, X.T), c_i)\n",
        "    sol = np.dot(inv_xt_ci, np.asarray(P[:,i]))\n",
        "    \n",
        "    Y[i,:] = sol\n",
        "    \n",
        "\n",
        "  for j, Rj in enumerate(R):\n",
        "    c_ui = Rj\n",
        "    c_i = np.zeros((n,n))\n",
        "    np.fill_diagonal(c_i, c_ui)\n",
        "\n",
        "    ci_y = np.dot(c_i,Y)\n",
        "    yt_ci_y = np.dot(Y.T, ci_y)\n",
        "    lamb_eye = lambda_*(np.identity(n_factors))\n",
        "    inv = np.linalg.inv(yt_ci_y + lamb_eye)\n",
        "    inv_yt = np.dot(inv, Y.T)\n",
        "    inv_yt_ci = np.dot(np.dot(inv, Y.T), c_i)\n",
        "    sol = np.dot(inv_yt_ci, np.asarray(P[j,:]))\n",
        "\n",
        "    X[j,:] = sol\n",
        "  \n",
        "  cost_iter = get_error(P, X, Y.T, R, lambda_)\n",
        "  cost_list.append(cost_iter)\n",
        "  print(\"Error: \",cost_iter)\n",
        "  print()\n"
      ],
      "execution_count": 0,
      "outputs": [
        {
          "output_type": "stream",
          "text": [
            "0\n",
            "Min 5.673995736447579e-09\n",
            "Max 2.047729935697474\n",
            "Error:  320188.6502374511\n",
            "\n",
            "1\n",
            "Min 1.1348555989981374e-18\n",
            "Max 1.850646040202348\n",
            "Error:  313280.3594798447\n",
            "\n",
            "2\n",
            "Min -2.4267982116783515\n",
            "Max 3.446891198289074\n",
            "Error:  248869.16475375343\n",
            "\n",
            "3\n",
            "Min -1.3405593963528148\n",
            "Max 2.0268275386507195\n",
            "Error:  220698.33163265896\n",
            "\n",
            "4\n",
            "Min -1.2124110711484835\n",
            "Max 2.0902076687645086\n",
            "Error:  216009.06036632654\n",
            "\n",
            "5\n",
            "Min -1.198312006092525\n",
            "Max 2.1887650335876674\n",
            "Error:  213906.4014854579\n",
            "\n",
            "6\n",
            "Min -1.1493758582920608\n",
            "Max 2.258338506265996\n",
            "Error:  212458.80004766307\n",
            "\n",
            "7\n",
            "Min -1.1663753539069064\n",
            "Max 2.2990385910396114\n",
            "Error:  211271.58678442583\n",
            "\n",
            "8\n",
            "Min -1.1850737097057893\n",
            "Max 2.3034180381434273\n",
            "Error:  210276.85680129737\n",
            "\n",
            "9\n",
            "Min -1.2167393440483725\n",
            "Max 2.2814811944828493\n",
            "Error:  209456.26279705393\n",
            "\n",
            "10\n",
            "Min -1.2063991294516163\n",
            "Max 2.2651150182564352\n",
            "Error:  208800.24586485536\n",
            "\n",
            "11\n",
            "Min -1.210698755068811\n",
            "Max 2.280513398910855\n",
            "Error:  208306.61550009937\n",
            "\n",
            "12\n",
            "Min -1.2115616472779214\n",
            "Max 2.2756341078366304\n",
            "Error:  207954.74281172024\n",
            "\n",
            "13\n",
            "Min -1.208453255325657\n",
            "Max 2.256000083772143\n",
            "Error:  207708.70405198517\n",
            "\n",
            "14\n",
            "Min -1.2014324286600138\n",
            "Max 2.226552840711696\n",
            "Error:  207533.6884367042\n",
            "\n",
            "15\n",
            "Min -1.1911961773041555\n",
            "Max 2.1911882382215375\n",
            "Error:  207402.032910541\n",
            "\n",
            "16\n",
            "Min -1.2010567197537578\n",
            "Max 2.1527560727586477\n",
            "Error:  207296.41870430447\n",
            "\n",
            "17\n",
            "Min -1.2106620754787358\n",
            "Max 2.113184787336852\n",
            "Error:  207206.90755129492\n",
            "\n",
            "18\n",
            "Min -1.208979173599685\n",
            "Max 2.0736782634286826\n",
            "Error:  207127.309899773\n",
            "\n",
            "19\n",
            "Min -1.2007155613994098\n",
            "Max 2.0349232525924705\n",
            "Error:  207053.4042526632\n",
            "\n",
            "20\n",
            "Min -1.188432453143974\n",
            "Max 1.9973116581660846\n",
            "Error:  206982.86032112112\n",
            "\n",
            "21\n",
            "Min -1.1734187973656376\n",
            "Max 1.9611459008215593\n",
            "Error:  206915.6951182982\n",
            "\n",
            "22\n",
            "Min -1.156207547254529\n",
            "Max 1.9266566889349068\n",
            "Error:  206852.98626553454\n",
            "\n",
            "23\n",
            "Min -1.1369397115845226\n",
            "Max 1.8939184790858545\n",
            "Error:  206795.3242289351\n",
            "\n",
            "24\n",
            "Min -1.1157242710467161\n",
            "Max 1.8663425752909728\n",
            "Error:  206743.08072089346\n",
            "\n",
            "25\n",
            "Min -1.0970185321167865\n",
            "Max 1.8579618799613582\n",
            "Error:  206696.7161688719\n",
            "\n",
            "26\n",
            "Min -1.101304157911342\n",
            "Max 1.8510030993672604\n",
            "Error:  206656.51307555908\n",
            "\n",
            "27\n",
            "Min -1.1067206636398357\n",
            "Max 1.8452258169579219\n",
            "Error:  206622.06135107004\n",
            "\n",
            "28\n",
            "Min -1.1106326431964162\n",
            "Max 1.8403726323051468\n",
            "Error:  206592.31853963537\n",
            "\n",
            "29\n",
            "Min -1.1134806708830356\n",
            "Max 1.8362214586383585\n",
            "Error:  206566.19524494218\n",
            "\n",
            "[[ 3.27052460e-02  4.94621996e-02 -2.08831531e-01  8.32206927e-02\n",
            "   6.54442363e-02]\n",
            " [-1.37422578e-01 -3.59351838e-01 -1.01355851e+00  7.12989269e-01\n",
            "   9.22994150e-01]\n",
            " [-6.00803127e-03 -5.93076841e-02 -1.63895232e-02  5.35852934e-03\n",
            "   8.67571927e-02]\n",
            " ...\n",
            " [ 1.43649307e-03  1.01535866e-03 -1.71772250e-04 -1.86388829e-03\n",
            "  -1.71141614e-04]\n",
            " [ 1.43649307e-03  1.01535866e-03 -1.71772250e-04 -1.86388829e-03\n",
            "  -1.71141614e-04]\n",
            " [ 1.50173685e-01  4.22116867e-01 -4.28934252e-01 -1.74598464e-01\n",
            "   1.85710178e-01]]\n",
            "[[ 0.21887865  0.00216731 -0.19384932  0.03057586  0.0663157 ]\n",
            " [-0.18536785 -0.07488111 -0.15359946 -0.01208645 -0.03528381]\n",
            " [ 0.2713212   0.22199932  0.13933341  0.20105888  0.28766922]\n",
            " ...\n",
            " [ 0.14854719  0.240664    0.12664127  0.13398606  0.18510406]\n",
            " [-0.02662183 -0.00064486 -0.02523236  0.00115702  0.00250091]\n",
            " [ 0.03657209  0.02398309  0.01483043  0.01108485  0.1238239 ]]\n"
          ],
          "name": "stdout"
        }
      ]
    },
    {
      "cell_type": "code",
      "metadata": {
        "id": "oteaXCf8V9HR",
        "colab_type": "code",
        "colab": {}
      },
      "source": [
        "#Final Preference Matrix - Predicted \n",
        "pred = np.dot(X, Y.T)"
      ],
      "execution_count": 0,
      "outputs": []
    },
    {
      "cell_type": "code",
      "metadata": {
        "id": "YyEHIHAxWL0V",
        "colab_type": "code",
        "outputId": "1a455614-7304-450b-f177-6fdb4221d8b3",
        "colab": {
          "base_uri": "https://localhost:8080/",
          "height": 34
        }
      },
      "source": [
        "pred[30,83]"
      ],
      "execution_count": 0,
      "outputs": [
        {
          "output_type": "execute_result",
          "data": {
            "text/plain": [
              "0.5307456614650116"
            ]
          },
          "metadata": {
            "tags": []
          },
          "execution_count": 33
        }
      ]
    },
    {
      "cell_type": "code",
      "metadata": {
        "id": "GX17oO3gpq4c",
        "colab_type": "code",
        "colab": {}
      },
      "source": [
        "df = pd.DataFrame(pred)\n",
        "df.to_csv('pred_original.csv')"
      ],
      "execution_count": 0,
      "outputs": []
    },
    {
      "cell_type": "markdown",
      "metadata": {
        "id": "fWPUxIgWoMEI",
        "colab_type": "text"
      },
      "source": [
        "# Plotting Cost"
      ]
    },
    {
      "cell_type": "code",
      "metadata": {
        "id": "9t5oqjv3Wvw7",
        "colab_type": "code",
        "outputId": "6f44c3df-71c4-4e93-f8a4-113e213b8584",
        "colab": {
          "base_uri": "https://localhost:8080/",
          "height": 730
        }
      },
      "source": [
        "plt.figure(figsize=(9,12))\n",
        "plt.plot(cost_list)\n",
        "plt.title(\"Cost Vs. Iteration Count\")\n",
        "plt.xlabel(\"# Iterations\")\n",
        "plt.ylabel(\"Cost\")\n",
        "plt.savefig('fig2.png', dpi = 300)\n",
        "plt.show()\n"
      ],
      "execution_count": 0,
      "outputs": [
        {
          "output_type": "display_data",
          "data": {
            "image/png": "[encoded data removed]",
            "text/plain": [
              "<Figure size 648x864 with 1 Axes>"
            ]
          },
          "metadata": {
            "tags": [],
            "needs_background": "light"
          }
        }
      ]
    },
    {
      "cell_type": "code",
      "metadata": {
        "id": "DQ_SfECxpTcA",
        "colab_type": "code",
        "outputId": "15e1eef6-8c72-4171-e673-6b9b049cd3f7",
        "colab": {
          "base_uri": "https://localhost:8080/",
          "height": 527
        }
      },
      "source": [
        "MSE_List"
      ],
      "execution_count": 0,
      "outputs": [
        {
          "output_type": "execute_result",
          "data": {
            "text/plain": [
              "[320188.6502374511,\n",
              " 313280.3594798447,\n",
              " 248869.16475375343,\n",
              " 220698.33163265896,\n",
              " 216009.06036632654,\n",
              " 213906.4014854579,\n",
              " 212458.80004766307,\n",
              " 211271.58678442583,\n",
              " 210276.85680129737,\n",
              " 209456.26279705393,\n",
              " 208800.24586485536,\n",
              " 208306.61550009937,\n",
              " 207954.74281172024,\n",
              " 207708.70405198517,\n",
              " 207533.6884367042,\n",
              " 207402.032910541,\n",
              " 207296.41870430447,\n",
              " 207206.90755129492,\n",
              " 207127.309899773,\n",
              " 207053.4042526632,\n",
              " 206982.86032112112,\n",
              " 206915.6951182982,\n",
              " 206852.98626553454,\n",
              " 206795.3242289351,\n",
              " 206743.08072089346,\n",
              " 206696.7161688719,\n",
              " 206656.51307555908,\n",
              " 206622.06135107004,\n",
              " 206592.31853963537,\n",
              " 206566.19524494218]"
            ]
          },
          "metadata": {
            "tags": []
          },
          "execution_count": 48
        }
      ]
    }
  ]
}