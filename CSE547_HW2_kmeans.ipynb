{
  "nbformat": 4,
  "nbformat_minor": 0,
  "metadata": {
    "colab": {
      "name": "CSE547-HW2-kmeans.ipynb",
      "provenance": [],
      "collapsed_sections": [],
      "include_colab_link": true
    },
    "kernelspec": {
      "name": "python3",
      "display_name": "Python 3"
    }
  },
  "cells": [
    {
      "cell_type": "markdown",
      "metadata": {
        "id": "view-in-github",
        "colab_type": "text"
      },
      "source": [
        "<a href=\"https://colab.research.google.com/github/medha-sagar/CSE547-BigDataForMachineLearning/blob/master/CSE547_HW2_kmeans.ipynb\" target=\"_parent\"><img src=\"https://colab.research.google.com/assets/colab-badge.svg\" alt=\"Open In Colab\"/></a>"
      ]
    },
    {
      "cell_type": "markdown",
      "metadata": {
        "id": "kPt5q27L5557",
        "colab_type": "text"
      },
      "source": [
        "# CSE547 - K-Means\n",
        "\n",
        "Adapted from Stanford's CS246"
      ]
    },
    {
      "cell_type": "markdown",
      "metadata": {
        "id": "p0-YhEpP_Ds-",
        "colab_type": "text"
      },
      "source": [
        "### Setup"
      ]
    },
    {
      "cell_type": "markdown",
      "metadata": {
        "id": "Zsj5WYpR9QId",
        "colab_type": "text"
      },
      "source": [
        "Let's setup Spark on your Colab environment.  Run the cell below!"
      ]
    },
    {
      "cell_type": "code",
      "metadata": {
        "id": "k-qHai2252mI",
        "colab_type": "code",
        "outputId": "8fd5a742-fe61-4e65-a03d-84e807581958",
        "colab": {
          "base_uri": "https://localhost:8080/",
          "height": 292
        }
      },
      "source": [
        "!pip install pyspark\n",
        "!pip install -U -q PyDrive\n",
        "!apt install openjdk-8-jdk-headless -qq\n",
        "import os\n",
        "os.environ[\"JAVA_HOME\"] = \"/usr/lib/jvm/java-8-openjdk-amd64\""
      ],
      "execution_count": 1,
      "outputs": [
        {
          "output_type": "stream",
          "text": [
            "Collecting pyspark\n",
            "\u001b[?25l  Downloading https://files.pythonhosted.org/packages/9a/5a/271c416c1c2185b6cb0151b29a91fff6fcaed80173c8584ff6d20e46b465/pyspark-2.4.5.tar.gz (217.8MB)\n",
            "\u001b[K     |████████████████████████████████| 217.8MB 62kB/s \n",
            "\u001b[?25hCollecting py4j==0.10.7\n",
            "\u001b[?25l  Downloading https://files.pythonhosted.org/packages/e3/53/c737818eb9a7dc32a7cd4f1396e787bd94200c3997c72c1dbe028587bd76/py4j-0.10.7-py2.py3-none-any.whl (197kB)\n",
            "\u001b[K     |████████████████████████████████| 204kB 37.8MB/s \n",
            "\u001b[?25hBuilding wheels for collected packages: pyspark\n",
            "  Building wheel for pyspark (setup.py) ... \u001b[?25l\u001b[?25hdone\n",
            "  Created wheel for pyspark: filename=pyspark-2.4.5-py2.py3-none-any.whl size=218257927 sha256=f3dfaac8e91c121eccd90e79eccb0d2f2851b995cdab2ff3b4a0dcc2df8f5d52\n",
            "  Stored in directory: /root/.cache/pip/wheels/bf/db/04/61d66a5939364e756eb1c1be4ec5bdce6e04047fc7929a3c3c\n",
            "Successfully built pyspark\n",
            "Installing collected packages: py4j, pyspark\n",
            "Successfully installed py4j-0.10.7 pyspark-2.4.5\n",
            "openjdk-8-jdk-headless is already the newest version (8u242-b08-0ubuntu3~18.04).\n",
            "0 upgraded, 0 newly installed, 0 to remove and 25 not upgraded.\n"
          ],
          "name": "stdout"
        }
      ]
    },
    {
      "cell_type": "markdown",
      "metadata": {
        "id": "PUUjUvXe3Sjk",
        "colab_type": "text"
      },
      "source": [
        "Now we authenticate a Google Drive client to download the file we will be processing in our Spark job.\n",
        "\n",
        "**Make sure to follow the interactive instructions.**"
      ]
    },
    {
      "cell_type": "code",
      "metadata": {
        "id": "lRElWs_x2mGh",
        "colab_type": "code",
        "colab": {}
      },
      "source": [
        "from pydrive.auth import GoogleAuth\n",
        "from pydrive.drive import GoogleDrive\n",
        "from google.colab import auth\n",
        "from oauth2client.client import GoogleCredentials\n",
        "\n",
        "# Authenticate and create the PyDrive client\n",
        "auth.authenticate_user()\n",
        "gauth = GoogleAuth()\n",
        "gauth.credentials = GoogleCredentials.get_application_default()\n",
        "drive = GoogleDrive(gauth)"
      ],
      "execution_count": 0,
      "outputs": []
    },
    {
      "cell_type": "code",
      "metadata": {
        "id": "QHsFTGUy2n1c",
        "colab_type": "code",
        "colab": {}
      },
      "source": [
        "id='1xvgbI1D81hk8-oVXtzd_G0s16SPSuviX'\n",
        "downloaded = drive.CreateFile({'id': id})\n",
        "downloaded.GetContentFile('data')\n",
        "\n",
        "id='17WSIDeXYS0upE0cqsa6I9osPJz4r6RQB'\n",
        "downloaded = drive.CreateFile({'id': id})\n",
        "downloaded.GetContentFile('c1')\n",
        "\n",
        "id='1dhGb4aIsOO645AQ9zVagR4oWyblqJ63I'\n",
        "downloaded = drive.CreateFile({'id': id})\n",
        "downloaded.GetContentFile('c2')"
      ],
      "execution_count": 0,
      "outputs": []
    },
    {
      "cell_type": "markdown",
      "metadata": {
        "id": "qwtlO4_m_LbQ",
        "colab_type": "text"
      },
      "source": [
        "If you executed the cells above, you should be able to see the dataset we will use for this Colab under the \"Files\" tab on the left panel.\n",
        "\n",
        "Next, we import some of the common libraries needed for our task."
      ]
    },
    {
      "cell_type": "code",
      "metadata": {
        "id": "twk-K-jilWK7",
        "colab_type": "code",
        "colab": {}
      },
      "source": [
        "import pandas as pd\n",
        "import numpy as np\n",
        "import matplotlib.pyplot as plt\n",
        "%matplotlib inline\n",
        "\n",
        "import pyspark\n",
        "from pyspark.sql import *\n",
        "from pyspark.sql.types import *\n",
        "from pyspark.sql.functions import *\n",
        "from pyspark import SparkContext, SparkConf\n",
        "from pyspark.sql import SQLContext"
      ],
      "execution_count": 0,
      "outputs": []
    },
    {
      "cell_type": "markdown",
      "metadata": {
        "colab_type": "text",
        "id": "BtrJlMBt1Ela"
      },
      "source": [
        "Let's initialize the Spark context."
      ]
    },
    {
      "cell_type": "code",
      "metadata": {
        "colab_type": "code",
        "id": "Vm3sAVeK1EDZ",
        "colab": {}
      },
      "source": [
        "# create the session\n",
        "conf = SparkConf().set(\"spark.ui.port\", \"4050\")\n",
        "\n",
        "# create the context\n",
        "sc = pyspark.SparkContext(conf=conf)\n",
        "spark = SparkSession.builder.getOrCreate()\n",
        "\n",
        "sqlContext = SQLContext(sc)"
      ],
      "execution_count": 0,
      "outputs": []
    },
    {
      "cell_type": "code",
      "metadata": {
        "id": "GDlph2V-zJRn",
        "colab_type": "code",
        "colab": {}
      },
      "source": [
        "from pyspark.sql import SQLContext\n",
        "sqlContext = SQLContext(sc)\n"
      ],
      "execution_count": 0,
      "outputs": []
    },
    {
      "cell_type": "markdown",
      "metadata": {
        "colab_type": "text",
        "id": "YqovskkH1DmC"
      },
      "source": [
        "You can easily check the current version and get the link of the web interface. In the Spark UI, you can monitor the progress of your job and debug the performance bottlenecks (if your Colab is running with a **local runtime**)."
      ]
    },
    {
      "cell_type": "code",
      "metadata": {
        "colab_type": "code",
        "id": "DueQggJc1DDk",
        "outputId": "51e80036-39dc-4ed3-f887-f765a68bdcd9",
        "colab": {
          "base_uri": "https://localhost:8080/",
          "height": 216
        }
      },
      "source": [
        "spark"
      ],
      "execution_count": 7,
      "outputs": [
        {
          "output_type": "execute_result",
          "data": {
            "text/html": [
              "\n",
              "            <div>\n",
              "                <p><b>SparkSession - in-memory</b></p>\n",
              "                \n",
              "        <div>\n",
              "            <p><b>SparkContext</b></p>\n",
              "\n",
              "            <p><a href=\"http://b31ed97bc9d2:4050\">Spark UI</a></p>\n",
              "\n",
              "            <dl>\n",
              "              <dt>Version</dt>\n",
              "                <dd><code>v2.4.5</code></dd>\n",
              "              <dt>Master</dt>\n",
              "                <dd><code>local[*]</code></dd>\n",
              "              <dt>AppName</dt>\n",
              "                <dd><code>pyspark-shell</code></dd>\n",
              "            </dl>\n",
              "        </div>\n",
              "        \n",
              "            </div>\n",
              "        "
            ],
            "text/plain": [
              "<pyspark.sql.session.SparkSession at 0x7f0d2b70b9e8>"
            ]
          },
          "metadata": {
            "tags": []
          },
          "execution_count": 7
        }
      ]
    },
    {
      "cell_type": "markdown",
      "metadata": {
        "colab_type": "text",
        "id": "Iid7lXcG1CY8"
      },
      "source": [
        "If you are running this Colab on the Google hosted runtime, the cell below will create a *ngrok* tunnel which will allow you to still check the Spark UI."
      ]
    },
    {
      "cell_type": "code",
      "metadata": {
        "colab_type": "code",
        "id": "sDnGLVPH1BPQ",
        "outputId": "4660eb10-0258-47e6-fc5d-967cdff6ec7a",
        "colab": {
          "base_uri": "https://localhost:8080/",
          "height": 289
        }
      },
      "source": [
        "!wget https://bin.equinox.io/c/4VmDzA7iaHb/ngrok-stable-linux-amd64.zip\n",
        "!unzip ngrok-stable-linux-amd64.zip\n",
        "get_ipython().system_raw('./ngrok http 4050 &')\n",
        "!curl -s http://localhost:4040/api/tunnels | python3 -c \\\n",
        "    \"import sys, json; print(json.load(sys.stdin)['tunnels'][0]['public_url'])\""
      ],
      "execution_count": 8,
      "outputs": [
        {
          "output_type": "stream",
          "text": [
            "--2020-04-26 19:17:43--  https://bin.equinox.io/c/4VmDzA7iaHb/ngrok-stable-linux-amd64.zip\n",
            "Resolving bin.equinox.io (bin.equinox.io)... 34.232.135.84, 3.228.72.85, 34.197.27.35, ...\n",
            "Connecting to bin.equinox.io (bin.equinox.io)|34.232.135.84|:443... connected.\n",
            "HTTP request sent, awaiting response... 200 OK\n",
            "Length: 13773305 (13M) [application/octet-stream]\n",
            "Saving to: ‘ngrok-stable-linux-amd64.zip’\n",
            "\n",
            "\r          ngrok-sta   0%[                    ]       0  --.-KB/s               \r         ngrok-stab   1%[                    ] 210.54K   849KB/s               \r        ngrok-stabl  26%[====>               ]   3.50M  7.05MB/s               \rngrok-stable-linux- 100%[===================>]  13.13M  19.1MB/s    in 0.7s    \n",
            "\n",
            "2020-04-26 19:17:44 (19.1 MB/s) - ‘ngrok-stable-linux-amd64.zip’ saved [13773305/13773305]\n",
            "\n",
            "Archive:  ngrok-stable-linux-amd64.zip\n",
            "  inflating: ngrok                   \n",
            "Traceback (most recent call last):\n",
            "  File \"<string>\", line 1, in <module>\n",
            "IndexError: list index out of range\n"
          ],
          "name": "stdout"
        }
      ]
    },
    {
      "cell_type": "markdown",
      "metadata": {
        "id": "kAYRX2PMm0L6",
        "colab_type": "text"
      },
      "source": [
        "### Data Loading"
      ]
    },
    {
      "cell_type": "code",
      "metadata": {
        "id": "5K93ABEy9Zlo",
        "colab_type": "code",
        "colab": {}
      },
      "source": [
        "data = spark.read.option(\"sep\", \" \").csv(\"data\", header=False)\n",
        "c1 = spark.read.option(\"sep\", \" \").csv(\"c1\", header=False)\n",
        "c2 = spark.read.option(\"sep\", \" \").csv(\"c2\", header=False)"
      ],
      "execution_count": 0,
      "outputs": []
    },
    {
      "cell_type": "code",
      "metadata": {
        "id": "zlldZxGyNHez",
        "colab_type": "code",
        "outputId": "501cf852-ee03-4180-c1b9-f56a75f4c0da",
        "colab": {
          "base_uri": "https://localhost:8080/",
          "height": 479
        }
      },
      "source": [
        "data.show()"
      ],
      "execution_count": 0,
      "outputs": [
        {
          "output_type": "stream",
          "text": [
            "+----+----+----+---+----+----+----+----+----+----+----+----+----+----+----+----+----+----+----+----+----+----+----+----+----+----+----+----+----+----+----+----+----+----+----+----+----+----+----+----+----+----+----+----+----+----+----+----+-----+-----+----+-----+-----+-----+------+----+----+----+\n",
            "| _c0| _c1| _c2|_c3| _c4| _c5| _c6| _c7| _c8| _c9|_c10|_c11|_c12|_c13|_c14|_c15|_c16|_c17|_c18|_c19|_c20|_c21|_c22|_c23|_c24|_c25|_c26|_c27|_c28|_c29|_c30|_c31|_c32|_c33|_c34|_c35|_c36|_c37|_c38|_c39|_c40|_c41|_c42|_c43|_c44|_c45|_c46|_c47| _c48| _c49|_c50| _c51| _c52| _c53|  _c54|_c55|_c56|_c57|\n",
            "+----+----+----+---+----+----+----+----+----+----+----+----+----+----+----+----+----+----+----+----+----+----+----+----+----+----+----+----+----+----+----+----+----+----+----+----+----+----+----+----+----+----+----+----+----+----+----+----+-----+-----+----+-----+-----+-----+------+----+----+----+\n",
            "|   0|0.64|0.64|  0|0.32|   0|   0|   0|   0|   0|   0|0.64|   0|   0|   0|0.32|   0|1.29|1.93|   0|0.96|   0|   0|   0|   0|   0|   0|   0|   0|   0|   0|   0|   0|   0|   0|   0|   0|   0|   0|   0|   0|   0|   0|   0|   0|   0|   0|   0|    0|    0|   0|0.778|    0|    0| 3.756|  61| 278|   1|\n",
            "|0.21|0.28| 0.5|  0|0.14|0.28|0.21|0.07|   0|0.94|0.21|0.79|0.65|0.21|0.14|0.14|0.07|0.28|3.47|   0|1.59|   0|0.43|0.43|   0|   0|   0|   0|   0|   0|   0|   0|   0|   0|   0|   0|0.07|   0|   0|   0|   0|   0|   0|   0|   0|   0|   0|   0|    0|0.132|   0|0.372| 0.18|0.048| 5.114| 101|1028|   1|\n",
            "|0.06|   0|0.71|  0|1.23|0.19|0.19|0.12|0.64|0.25|0.38|0.45|0.12|   0|1.75|0.06|0.06|1.03|1.36|0.32|0.51|   0|1.16|0.06|   0|   0|   0|   0|   0|   0|   0|   0|   0|   0|   0|   0|   0|   0|   0|0.06|   0|   0|0.12|   0|0.06|0.06|   0|   0| 0.01|0.143|   0|0.276|0.184| 0.01| 9.821| 485|2259|   1|\n",
            "|   0|   0|   0|  0|0.63|   0|0.31|0.63|0.31|0.63|0.31|0.31|0.31|   0|   0|0.31|   0|   0|3.18|   0|0.31|   0|   0|   0|   0|   0|   0|   0|   0|   0|   0|   0|   0|   0|   0|   0|   0|   0|   0|   0|   0|   0|   0|   0|   0|   0|   0|   0|    0|0.137|   0|0.137|    0|    0| 3.537|  40| 191|   1|\n",
            "|   0|   0|   0|  0|0.63|   0|0.31|0.63|0.31|0.63|0.31|0.31|0.31|   0|   0|0.31|   0|   0|3.18|   0|0.31|   0|   0|   0|   0|   0|   0|   0|   0|   0|   0|   0|   0|   0|   0|   0|   0|   0|   0|   0|   0|   0|   0|   0|   0|   0|   0|   0|    0|0.135|   0|0.135|    0|    0| 3.537|  40| 191|   1|\n",
            "|   0|   0|   0|  0|1.85|   0|   0|1.85|   0|   0|   0|   0|   0|   0|   0|   0|   0|   0|   0|   0|   0|   0|   0|   0|   0|   0|   0|   0|   0|   0|   0|   0|   0|   0|   0|   0|   0|   0|   0|   0|   0|   0|   0|   0|   0|   0|   0|   0|    0|0.223|   0|    0|    0|    0|     3|  15|  54|   1|\n",
            "|   0|   0|   0|  0|1.92|   0|   0|   0|   0|0.64|0.96|1.28|   0|   0|   0|0.96|   0|0.32|3.85|   0|0.64|   0|   0|   0|   0|   0|   0|   0|   0|   0|   0|   0|   0|   0|   0|   0|   0|   0|   0|   0|   0|   0|   0|   0|   0|   0|   0|   0|    0|0.054|   0|0.164|0.054|    0| 1.671|   4| 112|   1|\n",
            "|   0|   0|   0|  0|1.88|   0|   0|1.88|   0|   0|   0|   0|   0|   0|   0|   0|   0|   0|   0|   0|   0|   0|   0|   0|   0|   0|   0|   0|   0|   0|   0|   0|   0|   0|   0|   0|   0|   0|   0|   0|   0|   0|   0|   0|   0|   0|   0|   0|    0|0.206|   0|    0|    0|    0|  2.45|  11|  49|   1|\n",
            "|0.15|   0|0.46|  0|0.61|   0| 0.3|   0|0.92|0.76|0.76|0.92|   0|   0|   0|   0|   0|0.15|1.23|3.53|   2|   0|   0|0.15|   0|   0|   0|   0|   0|   0|   0|   0|0.15|   0|   0|   0|   0|   0|   0|   0|   0|   0| 0.3|   0|   0|   0|   0|   0|    0|0.271|   0|0.181|0.203|0.022| 9.744| 445|1257|   1|\n",
            "|0.06|0.12|0.77|  0|0.19|0.32|0.38|   0|0.06|   0|   0|0.64|0.25|   0|0.12|   0|   0|0.12|1.67|0.06|0.71|   0|0.19|   0|   0|   0|   0|   0|   0|   0|   0|   0|   0|   0|   0|   0|   0|   0|   0|   0|   0|   0|   0|0.06|   0|   0|   0|   0| 0.04| 0.03|   0|0.244|0.081|    0| 1.729|  43| 749|   1|\n",
            "|   0|   0|   0|  0|   0|   0|0.96|   0|   0|1.92|0.96|   0|   0|   0|   0|   0|   0|0.96|3.84|   0|0.96|   0|   0|   0|   0|   0|   0|   0|   0|   0|   0|   0|   0|   0|   0|   0|   0|   0|   0|0.96|   0|   0|   0|   0|   0|   0|   0|   0|    0|    0|   0|0.462|    0|    0| 1.312|   6|  21|   1|\n",
            "|   0|   0|0.25|  0|0.38|0.25|0.25|   0|   0|   0|0.12|0.12|0.12|   0|   0|   0|   0|   0|1.16|   0|0.77|   0|   0|   0|   0|   0|   0|   0|   0|   0|   0|   0|   0|   0|   0|   0|   0|   0|   0|   0|   0|   0|   0|   0|   0|   0|   0|   0|0.022|0.044|   0|0.663|    0|    0| 1.243|  11| 184|   1|\n",
            "|   0|0.69|0.34|  0|0.34|   0|   0|   0|   0|   0|   0|0.69|   0|   0|   0|0.34|   0|1.39|2.09|   0|1.04|   0|   0|   0|   0|   0|   0|   0|   0|   0|   0|   0|   0|   0|   0|   0|   0|   0|   0|   0|   0|   0|   0|   0|   0|   0|   0|   0|    0|0.056|   0|0.786|    0|    0| 3.728|  61| 261|   1|\n",
            "|   0|   0|   0|  0| 0.9|   0| 0.9|   0|   0| 0.9| 0.9|   0| 0.9|   0|   0|   0|   0|   0|2.72|   0| 0.9|   0|   0|   0|   0|   0|   0|   0|   0|   0|   0|   0|   0|   0|   0|   0|   0|   0|   0|   0|   0|   0|   0|   0|   0|   0|   0|   0|    0|    0|   0|    0|    0|    0| 2.083|   7|  25|   1|\n",
            "|   0|   0|1.42|  0|0.71|0.35|   0|0.35|   0|0.71|   0|0.35|   0|   0|   0|5.35|   0|   0|3.21|   0|2.85|   0|0.35|   0|   0|   0|   0|   0|   0|   0|   0|   0|   0|   0|   0|   0|   0|   0|   0|   0|   0|   0|   0|   0|   0|   0|   0|   0|    0|0.102|   0|0.357|    0|    0| 1.971|  24| 205|   1|\n",
            "|   0|0.42|0.42|  0|1.27|   0|0.42|   0|   0|1.27|   0|   0|   0|   0|   0|1.27|   0|   0| 1.7|0.42|1.27|   0|   0|0.42|   0|   0|   0|   0|   0|   0|   0|   0|   0|   0|   0|   0|1.27|   0|   0|0.42|   0|   0|   0|   0|   0|   0|   0|   0|    0|0.063|   0|0.572|0.063|    0| 5.659|  55| 249|   1|\n",
            "|   0|   0|   0|  0|0.94|   0|   0|   0|   0|   0|   0|   0|   0|   0|   0|   0|   0|   0|1.88|   0|2.83|   0|   0|   0|   0|   0|   0|   0|   0|   0|   0|   0|   0|   0|   0|   0|   0|   0|   0|   0|   0|   0|   0|   0|   0|   0|   0|   0|    0|    0|   0|0.428|    0|    0| 4.652|  31| 107|   1|\n",
            "|   0|   0|   0|  0|   0|   0|   0|   0|   0|   0|   0|   0|   0|   0|   0|   0|   0|   0|   0|   0|2.11|   0| 0.7|   0|   0|   0|   0|   0|   0|   0|   0|   0|   0|   0|   0|   0|   0|   0|   0|   0|   0|   0|   0|   0|   0|   0|   0|   0|    0|    0|   0|1.975| 0.37|    0|35.461|  95| 461|   1|\n",
            "|   0|   0|0.55|  0|1.11|   0|0.18|   0|   0|   0|   0|   0|0.92|   0|0.18|   0|0.37|0.37|3.15|   0|0.92|   0|   0|   0|   0|   0|   0|   0|   0|   0|   0|   0|   0|   0|   0|   0|   0|   0|   0|   0|   0|   0|   0|   0|   0|   0|   0|   0|    0|0.182|   0|0.455|    0|    0|  1.32|   4|  70|   1|\n",
            "|   0|0.63|   0|  0|1.59|0.31|   0|   0|0.31|   0|   0|0.63|   0|   0|1.27|0.63|0.31|3.18|2.22|   0|1.91|   0|0.31|0.63|   0|   0|   0|0.31|   0|   0|   0|   0|   0|   0|   0|   0|   0|   0|   0|1.59|   0|   0|   0|   0|   0|   0|   0|   0|    0|0.275|   0|0.055|0.496|    0| 3.509|  91| 186|   1|\n",
            "+----+----+----+---+----+----+----+----+----+----+----+----+----+----+----+----+----+----+----+----+----+----+----+----+----+----+----+----+----+----+----+----+----+----+----+----+----+----+----+----+----+----+----+----+----+----+----+----+-----+-----+----+-----+-----+-----+------+----+----+----+\n",
            "only showing top 20 rows\n",
            "\n"
          ],
          "name": "stdout"
        }
      ]
    },
    {
      "cell_type": "code",
      "metadata": {
        "id": "MC_m1oygCoEm",
        "colab_type": "code",
        "outputId": "41895443-280f-4da2-eb2b-992ceeccd5e0",
        "colab": {
          "base_uri": "https://localhost:8080/",
          "height": 292
        }
      },
      "source": [
        "c1.show()"
      ],
      "execution_count": 0,
      "outputs": [
        {
          "output_type": "stream",
          "text": [
            "+----+----+----+---+----+----+----+----+----+----+----+----+----+----+----+----+----+----+----+----+----+----+----+----+----+----+----+----+----+----+----+----+----+----+----+----+----+----+----+----+----+----+----+----+----+----+----+----+----+-----+----+-----+-----+-----+-----+----+----+----+\n",
            "| _c0| _c1| _c2|_c3| _c4| _c5| _c6| _c7| _c8| _c9|_c10|_c11|_c12|_c13|_c14|_c15|_c16|_c17|_c18|_c19|_c20|_c21|_c22|_c23|_c24|_c25|_c26|_c27|_c28|_c29|_c30|_c31|_c32|_c33|_c34|_c35|_c36|_c37|_c38|_c39|_c40|_c41|_c42|_c43|_c44|_c45|_c46|_c47|_c48| _c49|_c50| _c51| _c52| _c53| _c54|_c55|_c56|_c57|\n",
            "+----+----+----+---+----+----+----+----+----+----+----+----+----+----+----+----+----+----+----+----+----+----+----+----+----+----+----+----+----+----+----+----+----+----+----+----+----+----+----+----+----+----+----+----+----+----+----+----+----+-----+----+-----+-----+-----+-----+----+----+----+\n",
            "|   0|0.64|0.64|  0|0.32|   0|   0|   0|   0|   0|   0|0.64|   0|   0|   0|0.32|   0|1.29|1.93|   0|0.96|   0|   0|   0|   0|   0|   0|   0|   0|   0|   0|   0|   0|   0|   0|   0|   0|   0|   0|   0|   0|   0|   0|   0|   0|   0|   0|   0|   0|    0|   0|0.778|    0|    0|3.756|  61| 278|   1|\n",
            "|0.21|0.28| 0.5|  0|0.14|0.28|0.21|0.07|   0|0.94|0.21|0.79|0.65|0.21|0.14|0.14|0.07|0.28|3.47|   0|1.59|   0|0.43|0.43|   0|   0|   0|   0|   0|   0|   0|   0|   0|   0|   0|   0|0.07|   0|   0|   0|   0|   0|   0|   0|   0|   0|   0|   0|   0|0.132|   0|0.372| 0.18|0.048|5.114| 101|1028|   1|\n",
            "|0.06|   0|0.71|  0|1.23|0.19|0.19|0.12|0.64|0.25|0.38|0.45|0.12|   0|1.75|0.06|0.06|1.03|1.36|0.32|0.51|   0|1.16|0.06|   0|   0|   0|   0|   0|   0|   0|   0|   0|   0|   0|   0|   0|   0|   0|0.06|   0|   0|0.12|   0|0.06|0.06|   0|   0|0.01|0.143|   0|0.276|0.184| 0.01|9.821| 485|2259|   1|\n",
            "|   0|   0|   0|  0|0.63|   0|0.31|0.63|0.31|0.63|0.31|0.31|0.31|   0|   0|0.31|   0|   0|3.18|   0|0.31|   0|   0|   0|   0|   0|   0|   0|   0|   0|   0|   0|   0|   0|   0|   0|   0|   0|   0|   0|   0|   0|   0|   0|   0|   0|   0|   0|   0|0.137|   0|0.137|    0|    0|3.537|  40| 191|   1|\n",
            "|   0|   0|   0|  0|0.63|   0|0.31|0.63|0.31|0.63|0.31|0.31|0.31|   0|   0|0.31|   0|   0|3.18|   0|0.31|   0|   0|   0|   0|   0|   0|   0|   0|   0|   0|   0|   0|   0|   0|   0|   0|   0|   0|   0|   0|   0|   0|   0|   0|   0|   0|   0|   0|0.135|   0|0.135|    0|    0|3.537|  40| 191|   1|\n",
            "|   0|   0|   0|  0|1.85|   0|   0|1.85|   0|   0|   0|   0|   0|   0|   0|   0|   0|   0|   0|   0|   0|   0|   0|   0|   0|   0|   0|   0|   0|   0|   0|   0|   0|   0|   0|   0|   0|   0|   0|   0|   0|   0|   0|   0|   0|   0|   0|   0|   0|0.223|   0|    0|    0|    0|    3|  15|  54|   1|\n",
            "|   0|   0|   0|  0|1.92|   0|   0|   0|   0|0.64|0.96|1.28|   0|   0|   0|0.96|   0|0.32|3.85|   0|0.64|   0|   0|   0|   0|   0|   0|   0|   0|   0|   0|   0|   0|   0|   0|   0|   0|   0|   0|   0|   0|   0|   0|   0|   0|   0|   0|   0|   0|0.054|   0|0.164|0.054|    0|1.671|   4| 112|   1|\n",
            "|   0|   0|   0|  0|1.88|   0|   0|1.88|   0|   0|   0|   0|   0|   0|   0|   0|   0|   0|   0|   0|   0|   0|   0|   0|   0|   0|   0|   0|   0|   0|   0|   0|   0|   0|   0|   0|   0|   0|   0|   0|   0|   0|   0|   0|   0|   0|   0|   0|   0|0.206|   0|    0|    0|    0| 2.45|  11|  49|   1|\n",
            "|0.15|   0|0.46|  0|0.61|   0| 0.3|   0|0.92|0.76|0.76|0.92|   0|   0|   0|   0|   0|0.15|1.23|3.53|   2|   0|   0|0.15|   0|   0|   0|   0|   0|   0|   0|   0|0.15|   0|   0|   0|   0|   0|   0|   0|   0|   0| 0.3|   0|   0|   0|   0|   0|   0|0.271|   0|0.181|0.203|0.022|9.744| 445|1257|   1|\n",
            "|0.06|0.12|0.77|  0|0.19|0.32|0.38|   0|0.06|   0|   0|0.64|0.25|   0|0.12|   0|   0|0.12|1.67|0.06|0.71|   0|0.19|   0|   0|   0|   0|   0|   0|   0|   0|   0|   0|   0|   0|   0|   0|   0|   0|   0|   0|   0|   0|0.06|   0|   0|   0|   0|0.04| 0.03|   0|0.244|0.081|    0|1.729|  43| 749|   1|\n",
            "+----+----+----+---+----+----+----+----+----+----+----+----+----+----+----+----+----+----+----+----+----+----+----+----+----+----+----+----+----+----+----+----+----+----+----+----+----+----+----+----+----+----+----+----+----+----+----+----+----+-----+----+-----+-----+-----+-----+----+----+----+\n",
            "\n"
          ],
          "name": "stdout"
        }
      ]
    },
    {
      "cell_type": "code",
      "metadata": {
        "id": "81Vgo4ovCqtQ",
        "colab_type": "code",
        "outputId": "d9b7a6b5-d0d3-4fc7-80ca-dd9c6513c9ce",
        "colab": {
          "base_uri": "https://localhost:8080/",
          "height": 292
        }
      },
      "source": [
        "c2.show()"
      ],
      "execution_count": 0,
      "outputs": [
        {
          "output_type": "stream",
          "text": [
            "+----+----+----+----+----+----+----+----+----+----+----+----+----+----+----+----+----+----+----+----+----+----+----+----+----+----+----+----+----+----+----+----+----+----+----+----+----+----+----+----+----+----+----+----+----+----+----+----+-----+-----+-----+-----+-----+-----+-------+----+-----+----+\n",
            "| _c0| _c1| _c2| _c3| _c4| _c5| _c6| _c7| _c8| _c9|_c10|_c11|_c12|_c13|_c14|_c15|_c16|_c17|_c18|_c19|_c20|_c21|_c22|_c23|_c24|_c25|_c26|_c27|_c28|_c29|_c30|_c31|_c32|_c33|_c34|_c35|_c36|_c37|_c38|_c39|_c40|_c41|_c42|_c43|_c44|_c45|_c46|_c47| _c48| _c49| _c50| _c51| _c52| _c53|   _c54|_c55| _c56|_c57|\n",
            "+----+----+----+----+----+----+----+----+----+----+----+----+----+----+----+----+----+----+----+----+----+----+----+----+----+----+----+----+----+----+----+----+----+----+----+----+----+----+----+----+----+----+----+----+----+----+----+----+-----+-----+-----+-----+-----+-----+-------+----+-----+----+\n",
            "|   0|0.64|0.64|   0|0.32|   0|   0|   0|   0|   0|   0|0.64|   0|   0|   0|0.32|   0|1.29|1.93|   0|0.96|   0|   0|   0|   0|   0|   0|   0|   0|   0|   0|   0|   0|   0|   0|   0|   0|   0|   0|   0|   0|   0|   0|   0|   0|   0|   0|   0|    0|    0|    0|0.778|    0|    0|  3.756|  61|  278|   1|\n",
            "|0.19|   0|0.38|   0|   0|0.19|   0|   0|   0|   0|0.19|0.19|   0|   0|   0|0.38|   0|0.19|1.14|   0|0.38|   0|   0|   0|   0|   0|   0|   0|   0|   0|   0|   0|   0|   0|   0|   0|   0|   0|   0|   0|   0|   0|   0|   0|   0|   0|   0|   0| 0.01| 0.01|    0|    0|    0|0.003|  2.383|  21|15841|   1|\n",
            "|   0|   0|   0|0.04|   0|   0|   0|   0|   0|   0|   0|   0|   0|   0|   0|0.02|   0|   0|0.02|   0|   0|   0|   0|   0|   0|   0|   0|   0|   0|   0|   0|   0|   0|   0|   0|   0|   0|   0|   0|   0|   0|   0|   0|   0|   0|   0|   0|   0|1.024|9.752|0.003|1.542|1.785|1.998|239.571|9989|10062|   1|\n",
            "|0.29|0.04|0.04|   0|0.14|0.04|   0|0.29|0.29|0.94|0.14|0.04|0.14|   0|0.19|0.04|0.39|0.19| 1.6|0.04|0.79|9.53|0.69|0.47|   0|   0|   0|   0|   0|   0|   0|   0|   0|   0|   0|0.04|   0|   0|0.04|   0|   0|   0|   0|   0|0.19|   0|   0|   0|1.117|0.053|    0|0.356| 0.09|0.011| 12.332|1171| 9163|   1|\n",
            "|0.01|0.01|0.07|   0|0.05|   0|   0|0.01|0.03|0.13|0.05|   0|   0|0.05|   0|   0|0.01|0.07|0.01|   0|0.01|   0|   0|   0|   0|   0|   0|   0|   0|   0|   0|   0|0.07|   0|   0|0.13|   0|   0|   0|0.01|0.46|   0|   0|0.03|   0| 0.8|0.01|0.07| 0.05|0.301|0.131|0.002| 0.09|0.002|  2.577|  82| 5395|   0|\n",
            "| 0.2|0.81|0.61|   0|   0|   0|   0|   0| 0.2|   0|   0| 0.4|   0|   0|   0| 0.2|   0|   0| 0.2|   0| 0.2|   0|   0| 0.4|   0|   0|   0|   0|   0|   0|   0|   0|   0|   0|   0|   0|   0|   0|   0|   0|   0|   0|   0|   0|   0|   0|   0|   0|    0|    0|    0|0.831|0.338| 0.03| 1102.5|2204| 2205|   1|\n",
            "|0.07|   0|0.15|   0|0.09|0.05|   0|0.03|0.05|0.05|   0|0.41|0.03|   0|   0|0.01|0.09|0.13|0.03|0.01|0.07|   0|0.01|   0|   0|   0|0.03|   0|0.01|   0|   0|   0|1.21|   0|   0|0.07|0.95|   0|0.01|0.11|0.13|0.01|   0|   0|   0|0.39|0.03|0.51|0.042|0.173|0.002|0.008|0.005|0.002|  2.145|  71| 2954|   0|\n",
            "|0.33|   0|1.65|   0|0.99|   0|0.33|   0|0.66|1.32|   0|   0|   0|   0|   0|   0|   0|   0|0.33|0.99|0.66|   0|   0|   0|0.33|   0|   0|   0|   0|   0|   0|   0|   0|   0|   0|   0|   0|   0|   0|   0|   0|   0|   0|   0|   0|   0|   0|   0|    0|    0|    0|0.859|0.101|    0| 337.25|1146| 1349|   1|\n",
            "|   0|   0|0.46|   0|   0|   0|   0|0.15|   0|   0|   0|0.15|   0|   0|   0|   0|   0|0.46|0.93|   0|   0|   0|0.46|   0|   0|   0|   0|   0|   0|   0|   0|   0|   0|   0|   0|0.15|   0|   0|   0|0.93|   0|   0|   0|   0|   0|   0|   0|   0|0.071|0.071|    0|0.095|0.023|    0|  62.75|1505| 2761|   1|\n",
            "| 0.5|0.25|0.42|   0|0.08|0.23|0.02|0.35|0.35|0.69|0.21| 0.9| 0.5|0.92|0.02|0.33|0.42|0.02|3.05|   0|1.43|   0|0.94|0.46|   0|   0|   0|   0|   0|   0|   0|   0|   0|   0|   0|   0|   0|   0|   0|0.02|   0|   0|   0|   0|0.02|   0|0.02|   0|    0|0.069|    0|0.325|0.523|0.124|  6.723| 445| 4128|   1|\n",
            "+----+----+----+----+----+----+----+----+----+----+----+----+----+----+----+----+----+----+----+----+----+----+----+----+----+----+----+----+----+----+----+----+----+----+----+----+----+----+----+----+----+----+----+----+----+----+----+----+-----+-----+-----+-----+-----+-----+-------+----+-----+----+\n",
            "\n"
          ],
          "name": "stdout"
        }
      ]
    },
    {
      "cell_type": "code",
      "metadata": {
        "id": "4AwOdMRBUso0",
        "colab_type": "code",
        "colab": {}
      },
      "source": [
        "import numpy as np"
      ],
      "execution_count": 0,
      "outputs": []
    },
    {
      "cell_type": "code",
      "metadata": {
        "id": "WwvZsNQUOAu4",
        "colab_type": "code",
        "colab": {}
      },
      "source": [
        "def euclidean_cost(cluster_map):\n",
        "  rmse = []\n",
        "  iterr = 0\n",
        "  document_map = data\n",
        "  doc_cluster = []\n",
        "  for document in document_map.rdd.collect():\n",
        "    lowest_dist = 1000000000000000000\n",
        "    document = [float(d) for d in document]\n",
        "    for cluster in cluster_map.rdd.collect():\n",
        "      cluster = [float(c) for c in cluster]\n",
        "      \n",
        "      diff = np.asarray(document)- np.asarray(cluster)\n",
        "      cur_dist = np.linalg.norm(diff)\n",
        "      if (cur_dist < lowest_dist):\n",
        "        lowest_dist = cur_dist\n",
        "        closest_cluster = cluster\n",
        "    doc_cluster.append([tuple(document),  tuple(closest_cluster)])\n",
        "    rmse.append(np.sum((np.asarray(document) - np.asarray(closest_cluster))**2))\n",
        "    iterr += 1\n",
        "\n",
        "  return (rmse, doc_cluster)"
      ],
      "execution_count": 0,
      "outputs": []
    },
    {
      "cell_type": "code",
      "metadata": {
        "id": "ijkLOfmuOf1y",
        "colab_type": "code",
        "outputId": "3949f370-2b9f-4300-dab9-135abf3fac55",
        "colab": {
          "base_uri": "https://localhost:8080/",
          "height": 1000
        }
      },
      "source": [
        "cluster_map = c1\n",
        "costs = []\n",
        "for partition in range(21):\n",
        "  print(\"Partition : \", partition)\n",
        "  rmse, doc_cluster = euclidean_cost(cluster_map)\n",
        "  print(len(rmse))\n",
        "  print(len(doc_cluster))\n",
        "  cost = np.sum(np.asarray(rmse))\n",
        "  print(\"Cost : \", cost)\n",
        "  costs.append(cost)\n",
        "  doc_sum = 0\n",
        "  new_clusters = []\n",
        "  for cluster in cluster_map.rdd.collect():\n",
        "    cluster = [float(c) for c in cluster]\n",
        "    doc_list = []\n",
        "    for i in range(len(doc_cluster)):\n",
        "      if doc_cluster[i][1] == tuple(cluster):\n",
        "        doc_list.append(doc_cluster[i][0])\n",
        "    doc_sum += len(doc_list)\n",
        "    df = pd.DataFrame.from_records(doc_list)\n",
        "    new_clusters.append(df.mean())\n",
        "  print(doc_sum)\n",
        "  c3 = pd.DataFrame.from_records(new_clusters)\n",
        "  cluster_map = sqlContext.createDataFrame(c3)\n"
      ],
      "execution_count": 30,
      "outputs": [
        {
          "output_type": "stream",
          "text": [
            "Partition :  0\n",
            "4601\n",
            "4601\n",
            "Cost :  623660345.306411\n",
            "4601\n",
            "Partition :  1\n",
            "4601\n",
            "4601\n",
            "Cost :  509862908.2975452\n",
            "4601\n",
            "Partition :  2\n",
            "4601\n",
            "4601\n",
            "Cost :  485480681.8720081\n",
            "4601\n",
            "Partition :  3\n",
            "4601\n",
            "4601\n",
            "Cost :  463997011.6850127\n",
            "4601\n",
            "Partition :  4\n",
            "4601\n",
            "4601\n",
            "Cost :  460969266.5729965\n",
            "4601\n",
            "Partition :  5\n",
            "4601\n",
            "4601\n",
            "Cost :  460537847.98276794\n",
            "4601\n",
            "Partition :  6\n",
            "4601\n",
            "4601\n",
            "Cost :  460313099.65354526\n",
            "4601\n",
            "Partition :  7\n",
            "4601\n",
            "4601\n",
            "Cost :  460003523.88940734\n",
            "4601\n",
            "Partition :  8\n",
            "4601\n",
            "4601\n",
            "Cost :  459570539.3177351\n",
            "4601\n",
            "Partition :  9\n",
            "4601\n",
            "4601\n",
            "Cost :  459021103.342291\n",
            "4601\n",
            "Partition :  10\n",
            "4601\n",
            "4601\n",
            "Cost :  458490656.19198096\n",
            "4601\n",
            "Partition :  11\n",
            "4601\n",
            "4601\n",
            "Cost :  457944232.58797425\n",
            "4601\n",
            "Partition :  12\n",
            "4601\n",
            "4601\n",
            "Cost :  457558005.1986768\n",
            "4601\n",
            "Partition :  13\n",
            "4601\n",
            "4601\n",
            "Cost :  457290136.35230196\n",
            "4601\n",
            "Partition :  14\n",
            "4601\n",
            "4601\n",
            "Cost :  457050555.0595628\n",
            "4601\n",
            "Partition :  15\n",
            "4601\n",
            "4601\n",
            "Cost :  456892235.61535484\n",
            "4601\n",
            "Partition :  16\n",
            "4601\n",
            "4601\n",
            "Cost :  456703630.7370337\n",
            "4601\n",
            "Partition :  17\n",
            "4601\n",
            "4601\n",
            "Cost :  456404203.0189748\n",
            "4601\n",
            "Partition :  18\n",
            "4601\n",
            "4601\n",
            "Cost :  456177800.5419932\n",
            "4601\n",
            "Partition :  19\n",
            "4601\n",
            "4601\n",
            "Cost :  455986871.02734584\n",
            "4601\n",
            "Partition :  20\n",
            "4601\n",
            "4601\n",
            "Cost :  455729268.3551454\n",
            "4601\n"
          ],
          "name": "stdout"
        }
      ]
    },
    {
      "cell_type": "code",
      "metadata": {
        "id": "TIcVYu6Ra1EW",
        "colab_type": "code",
        "colab": {
          "base_uri": "https://localhost:8080/",
          "height": 54
        },
        "outputId": "e4a4bcff-47c7-4602-b736-76206d5842de"
      },
      "source": [
        "print(costs)"
      ],
      "execution_count": 31,
      "outputs": [
        {
          "output_type": "stream",
          "text": [
            "[623660345.306411, 509862908.2975452, 485480681.8720081, 463997011.6850127, 460969266.5729965, 460537847.98276794, 460313099.65354526, 460003523.88940734, 459570539.3177351, 459021103.342291, 458490656.19198096, 457944232.58797425, 457558005.1986768, 457290136.35230196, 457050555.0595628, 456892235.61535484, 456703630.7370337, 456404203.0189748, 456177800.5419932, 455986871.02734584, 455729268.3551454]\n"
          ],
          "name": "stdout"
        }
      ]
    },
    {
      "cell_type": "code",
      "metadata": {
        "id": "YdOlKY0pzLSP",
        "colab_type": "code",
        "colab": {
          "base_uri": "https://localhost:8080/",
          "height": 730
        },
        "outputId": "b20fe155-c189-422f-ae38-71f9f790c0f8"
      },
      "source": [
        "plt.figure(figsize=(9,12))\n",
        "plt.plot(costs)\n",
        "plt.title(\"Cost Vs. Iteration Count\")\n",
        "plt.xlabel(\"# Iterations\")\n",
        "plt.ylabel(\"Cost\")\n",
        "plt.savefig('fig1.png', dpi = 300)\n",
        "plt.show()"
      ],
      "execution_count": 44,
      "outputs": [
        {
          "output_type": "display_data",
          "data": {
            "image/png": "[encoded data removed]",
            "text/plain": [
              "<Figure size 648x864 with 1 Axes>"
            ]
          },
          "metadata": {
            "tags": [],
            "needs_background": "light"
          }
        }
      ]
    },
    {
      "cell_type": "code",
      "metadata": {
        "id": "6n8FmnzZVxPq",
        "colab_type": "code",
        "colab": {}
      },
      "source": [
        ""
      ],
      "execution_count": 0,
      "outputs": []
    },
    {
      "cell_type": "markdown",
      "metadata": {
        "id": "fWWDOT_MbKhF",
        "colab_type": "text"
      },
      "source": [
        "[623660345.306411, 509862908.2975452, 485480681.8720081, 463997011.6850127, 460969266.5729965, 460537847.98276794, 460313099.65354526, 460003523.88940734, 459570539.3177351, 459021103.342291, 458490656.19198096, 457944232.58797425, 457558005.1986768, 457290136.35230196, 457050555.0595628, 456892235.61535484, 456703630.7370337, 456404203.0189748, 456177800.5419932, 455986871.02734584, 455729268.3551454]"
      ]
    },
    {
      "cell_type": "code",
      "metadata": {
        "id": "WCGzb4hvM0g8",
        "colab_type": "code",
        "colab": {
          "base_uri": "https://localhost:8080/",
          "height": 1000
        },
        "outputId": "f0760fbb-2a28-4e78-9b88-c475fdfea84e"
      },
      "source": [
        "cluster_map = c2\n",
        "c2_costs = []\n",
        "for partition in range(21):\n",
        "  print(\"Partition : \", partition)\n",
        "  rmse, doc_cluster = euclidean_cost(cluster_map)\n",
        "  cost = np.sum(np.asarray(rmse))\n",
        "  print(\"Cost : \", cost)\n",
        "  c2_costs.append(cost)\n",
        "  doc_sum = 0\n",
        "  new_clusters = []\n",
        "  for cluster in cluster_map.rdd.collect():\n",
        "    cluster = [float(c) for c in cluster]\n",
        "    doc_list = []\n",
        "    for i in range(len(doc_cluster)):\n",
        "      if doc_cluster[i][1] == tuple(cluster):\n",
        "        doc_list.append(doc_cluster[i][0])\n",
        "    doc_sum += len(doc_list)\n",
        "    df = pd.DataFrame.from_records(doc_list)\n",
        "    new_clusters.append(df.mean())\n",
        "  print(doc_sum)\n",
        "  c3 = pd.DataFrame.from_records(new_clusters)\n",
        "  cluster_map = sqlContext.createDataFrame(c3)"
      ],
      "execution_count": 33,
      "outputs": [
        {
          "output_type": "stream",
          "text": [
            "Partition :  0\n",
            "Cost :  438747790.02791697\n",
            "4601\n",
            "Partition :  1\n",
            "Cost :  249803933.62600315\n",
            "4601\n",
            "Partition :  2\n",
            "Cost :  194494814.40631247\n",
            "4601\n",
            "Partition :  3\n",
            "Cost :  169804841.45154297\n",
            "4601\n",
            "Partition :  4\n",
            "Cost :  156295748.80627602\n",
            "4601\n",
            "Partition :  5\n",
            "Cost :  149094208.1089661\n",
            "4601\n",
            "Partition :  6\n",
            "Cost :  142508531.61961526\n",
            "4601\n",
            "Partition :  7\n",
            "Cost :  132303869.40652972\n",
            "4601\n",
            "Partition :  8\n",
            "Cost :  117170969.83719075\n",
            "4601\n",
            "Partition :  9\n",
            "Cost :  108547377.17857005\n",
            "4601\n",
            "Partition :  10\n",
            "Cost :  102237203.317996\n",
            "4601\n",
            "Partition :  11\n",
            "Cost :  98278015.74975672\n",
            "4601\n",
            "Partition :  12\n",
            "Cost :  95630226.12177396\n",
            "4601\n",
            "Partition :  13\n",
            "Cost :  93793314.05119297\n",
            "4601\n",
            "Partition :  14\n",
            "Cost :  92377131.96821076\n",
            "4601\n",
            "Partition :  15\n",
            "Cost :  91541606.25423887\n",
            "4601\n",
            "Partition :  16\n",
            "Cost :  91045573.83042458\n",
            "4601\n",
            "Partition :  17\n",
            "Cost :  90752240.101408\n",
            "4601\n",
            "Partition :  18\n",
            "Cost :  90470170.18122733\n",
            "4601\n",
            "Partition :  19\n",
            "Cost :  90216416.17563124\n",
            "4601\n",
            "Partition :  20\n",
            "Cost :  90162390.9104141\n",
            "4601\n"
          ],
          "name": "stdout"
        }
      ]
    },
    {
      "cell_type": "code",
      "metadata": {
        "id": "SnOv_KxJz6EC",
        "colab_type": "code",
        "colab": {
          "base_uri": "https://localhost:8080/",
          "height": 54
        },
        "outputId": "dca28ce2-0d7e-4991-8db3-10b14fa689b4"
      },
      "source": [
        "print(c2_costs)"
      ],
      "execution_count": 34,
      "outputs": [
        {
          "output_type": "stream",
          "text": [
            "[438747790.02791697, 249803933.62600315, 194494814.40631247, 169804841.45154297, 156295748.80627602, 149094208.1089661, 142508531.61961526, 132303869.40652972, 117170969.83719075, 108547377.17857005, 102237203.317996, 98278015.74975672, 95630226.12177396, 93793314.05119297, 92377131.96821076, 91541606.25423887, 91045573.83042458, 90752240.101408, 90470170.18122733, 90216416.17563124, 90162390.9104141]\n"
          ],
          "name": "stdout"
        }
      ]
    },
    {
      "cell_type": "code",
      "metadata": {
        "id": "8-44jIU3R-qO",
        "colab_type": "code",
        "colab": {}
      },
      "source": [
        "#[438747790.02791697, 249803933.62600315, 194494814.40631247, 169804841.45154297, 156295748.80627602, 149094208.1089661, 142508531.61961526, 132303869.40652972, 117170969.83719075, 108547377.17857005, 102237203.317996, 98278015.74975672, 95630226.12177396, 93793314.05119297, 92377131.96821076, 91541606.25423887, 91045573.83042458, 90752240.101408, 90470170.18122733, 90216416.17563124, 90162390.9104141]"
      ],
      "execution_count": 0,
      "outputs": []
    },
    {
      "cell_type": "code",
      "metadata": {
        "id": "rgGTUz1Bz9Iw",
        "colab_type": "code",
        "colab": {
          "base_uri": "https://localhost:8080/",
          "height": 730
        },
        "outputId": "0de61550-f853-4143-eb78-b9e0a7d28e79"
      },
      "source": [
        "plt.figure(figsize=(9,12))\n",
        "plt.plot(c2_costs)\n",
        "plt.title(\"Cost Vs. Iteration Count\")\n",
        "plt.xlabel(\"# Iterations\")\n",
        "plt.ylabel(\"Cost\")\n",
        "plt.savefig('fig2.png', dpi = 300)\n",
        "plt.show()"
      ],
      "execution_count": 47,
      "outputs": [
        {
          "output_type": "display_data",
          "data": {
            "image/png": "[encoded data removed]",
            "text/plain": [
              "<Figure size 648x864 with 1 Axes>"
            ]
          },
          "metadata": {
            "tags": [],
            "needs_background": "light"
          }
        }
      ]
    },
    {
      "cell_type": "code",
      "metadata": {
        "id": "1Vay6N2_XQX2",
        "colab_type": "code",
        "colab": {
          "base_uri": "https://localhost:8080/",
          "height": 730
        },
        "outputId": "27e7a22c-e04b-4d2f-ab42-7be586506070"
      },
      "source": [
        "plt.figure(figsize=(9,12))\n",
        "plt.plot(costs)\n",
        "plt.plot(c2_costs)\n",
        "plt.title(\"Cost Vs. Iteration Count\")\n",
        "plt.xlabel(\"# Iterations\")\n",
        "plt.ylabel(\"Cost\")\n",
        "plt.legend(['C1', 'C2'])\n",
        "plt.savefig('fig3.png', dpi = 300)\n",
        "plt.show()"
      ],
      "execution_count": 48,
      "outputs": [
        {
          "output_type": "display_data",
          "data": {
            "image/png": "[encoded data removed]",
            "text/plain": [
              "<Figure size 648x864 with 1 Axes>"
            ]
          },
          "metadata": {
            "tags": [],
            "needs_background": "light"
          }
        }
      ]
    },
    {
      "cell_type": "markdown",
      "metadata": {
        "id": "_Bm6jNpeykZa",
        "colab_type": "text"
      },
      "source": [
        "Partition :  0\n",
        "Cost :  438747790.02791697\n",
        "Partition :  1\n",
        "Cost :  251125286.23381487\n",
        "Partition :  2\n",
        "Cost :  193710134.90986466\n",
        "Partition :  3\n",
        "Cost :  168519003.53136647\n",
        "Partition :  4\n",
        "Cost :  154689448.10528445\n",
        "Partition :  5\n",
        "Cost :  146592436.46744326\n",
        "Partition :  6"
      ]
    },
    {
      "cell_type": "code",
      "metadata": {
        "id": "ySHvZjyA9SMY",
        "colab_type": "code",
        "colab": {}
      },
      "source": [
        "def manhattan_cost(cluster_map):\n",
        "  rmse = []\n",
        "  iterr = 0\n",
        "  document_map = data\n",
        "  doc_cluster = []\n",
        "  for document in document_map.rdd.collect():\n",
        "    lowest_dist = 1000000000000000000\n",
        "    document = [float(d) for d in document]\n",
        "    for cluster in cluster_map.rdd.collect():\n",
        "      cluster = [float(c) for c in cluster]\n",
        "      \n",
        "      diff = np.asarray(document)- np.asarray(cluster)\n",
        "      cur_dist = np.linalg.norm(diff)\n",
        "      if (cur_dist < lowest_dist):\n",
        "        lowest_dist = cur_dist\n",
        "        closest_cluster = cluster\n",
        "    doc_cluster.append([tuple(document),  tuple(closest_cluster)])\n",
        "    rmse.append(np.sum(np.abs(np.asarray(document) - np.asarray(closest_cluster))))\n",
        "    iterr += 1\n",
        "\n",
        "  return (rmse, doc_cluster)"
      ],
      "execution_count": 0,
      "outputs": []
    },
    {
      "cell_type": "code",
      "metadata": {
        "id": "XPnB4lIUBZEt",
        "colab_type": "code",
        "colab": {
          "base_uri": "https://localhost:8080/",
          "height": 527
        },
        "outputId": "1d36f07b-f394-43b2-8633-0bfbfb56e152"
      },
      "source": [
        "cluster_map = c1\n",
        "costs = []\n",
        "for partition in range(6):\n",
        "  print(\"Partition : \", partition)\n",
        "  rmse, doc_cluster = manhattan_cost(cluster_map)\n",
        "  print(len(rmse))\n",
        "  print(len(doc_cluster))\n",
        "  cost = np.sum(np.asarray(rmse))\n",
        "  print(\"Cost : \", cost)\n",
        "  costs.append(cost)\n",
        "  doc_sum = 0\n",
        "  new_clusters = []\n",
        "  for cluster in cluster_map.rdd.collect():\n",
        "    cluster = [float(c) for c in cluster]\n",
        "    doc_list = []\n",
        "    for i in range(len(doc_cluster)):\n",
        "      if doc_cluster[i][1] == tuple(cluster):\n",
        "        doc_list.append(doc_cluster[i][0])\n",
        "    doc_sum += len(doc_list)\n",
        "    df = pd.DataFrame.from_records(doc_list)\n",
        "    new_clusters.append(df.median())\n",
        "  print(doc_sum)\n",
        "  c3 = pd.DataFrame.from_records(new_clusters)\n",
        "  cluster_map = sqlContext.createDataFrame(c3)"
      ],
      "execution_count": 28,
      "outputs": [
        {
          "output_type": "stream",
          "text": [
            "Partition :  0\n",
            "4601\n",
            "4601\n",
            "Cost :  554359.395\n",
            "4601\n",
            "Partition :  1\n",
            "4601\n",
            "4601\n",
            "Cost :  432020.1645\n",
            "4601\n",
            "Partition :  2\n",
            "4601\n",
            "4601\n",
            "Cost :  422001.4280000001\n",
            "4601\n",
            "Partition :  3\n",
            "4601\n",
            "4601\n",
            "Cost :  418448.07600000006\n",
            "4601\n",
            "Partition :  4\n",
            "4601\n",
            "4601\n",
            "Cost :  416790.845\n",
            "4601\n",
            "Partition :  5\n",
            "4601\n",
            "4601\n",
            "Cost :  415676.1165\n",
            "4601\n"
          ],
          "name": "stdout"
        }
      ]
    },
    {
      "cell_type": "markdown",
      "metadata": {
        "id": "w6c38wjI1TEQ",
        "colab_type": "text"
      },
      "source": [
        "565788.0584027767"
      ]
    }
  ]
}