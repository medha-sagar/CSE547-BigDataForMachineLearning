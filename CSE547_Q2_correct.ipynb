{
  "nbformat": 4,
  "nbformat_minor": 0,
  "metadata": {
    "colab": {
      "name": "CSE547-Q2_v1.ipynb",
      "provenance": [],
      "collapsed_sections": [],
      "include_colab_link": true
    },
    "kernelspec": {
      "name": "python3",
      "display_name": "Python 3"
    }
  },
  "cells": [
    {
      "cell_type": "markdown",
      "metadata": {
        "id": "view-in-github",
        "colab_type": "text"
      },
      "source": [
        "<a href=\"https://colab.research.google.com/github/medha-sagar/CSE547-BigDataForMachineLearning/blob/master/CSE547_Q2_correct.ipynb\" target=\"_parent\"><img src=\"https://colab.research.google.com/assets/colab-badge.svg\" alt=\"Open In Colab\"/></a>"
      ]
    },
    {
      "cell_type": "code",
      "metadata": {
        "id": "fy47jAd_YhhK",
        "colab_type": "code",
        "colab": {
          "base_uri": "https://localhost:8080/",
          "height": 88
        },
        "outputId": "9c455653-685b-4b57-ded7-0bbd06edfb9b"
      },
      "source": [
        "!pip install pyspark\n",
        "!pip install -U -q PyDrive\n",
        "!apt install openjdk-8-jdk-headless -qq\n",
        "import os\n",
        "os.environ[\"JAVA_HOME\"] = \"/usr/lib/jvm/java-8-openjdk-amd64\""
      ],
      "execution_count": null,
      "outputs": [
        {
          "output_type": "stream",
          "text": [
            "Requirement already satisfied: pyspark in /usr/local/lib/python3.6/dist-packages (2.4.5)\n",
            "Requirement already satisfied: py4j==0.10.7 in /usr/local/lib/python3.6/dist-packages (from pyspark) (0.10.7)\n",
            "openjdk-8-jdk-headless is already the newest version (8u242-b08-0ubuntu3~18.04).\n",
            "0 upgraded, 0 newly installed, 0 to remove and 25 not upgraded.\n"
          ],
          "name": "stdout"
        }
      ]
    },
    {
      "cell_type": "code",
      "metadata": {
        "id": "QRuX4TC3ZRc5",
        "colab_type": "code",
        "colab": {}
      },
      "source": [
        "from pydrive.auth import GoogleAuth\n",
        "from pydrive.drive import GoogleDrive\n",
        "from google.colab import auth\n",
        "from oauth2client.client import GoogleCredentials\n",
        "\n",
        "# Authenticate and create the PyDrive client\n",
        "auth.authenticate_user()\n",
        "gauth = GoogleAuth()\n",
        "gauth.credentials = GoogleCredentials.get_application_default()\n",
        "drive = GoogleDrive(gauth)"
      ],
      "execution_count": null,
      "outputs": []
    },
    {
      "cell_type": "code",
      "metadata": {
        "id": "4HKOjk8vfY6E",
        "colab_type": "code",
        "colab": {}
      },
      "source": [
        "id='1rqNLakXn3uthZtXvHSzD6s2xn-w0NscJ'\n",
        "downloaded = drive.CreateFile({'id': id})\n",
        "downloaded.GetContentFile('browsing.txt')"
      ],
      "execution_count": null,
      "outputs": []
    },
    {
      "cell_type": "code",
      "metadata": {
        "id": "EUNYidaUZgXQ",
        "colab_type": "code",
        "colab": {}
      },
      "source": [
        "import pyspark\n",
        "from pyspark.sql import *\n",
        "from pyspark.sql.functions import *\n",
        "from pyspark import SparkContext\n",
        "import pandas as pd\n",
        "import numpy as np\n",
        "import matplotlib.pyplot as plt\n",
        "from itertools import combinations\n",
        "from collections import Counter\n",
        "%matplotlib inline\n",
        "\n",
        "# create the Spark Session\n",
        "spark = SparkSession.builder.getOrCreate()\n",
        "\n",
        "# create the Spark Context\n",
        "sc = spark.sparkContext"
      ],
      "execution_count": null,
      "outputs": []
    },
    {
      "cell_type": "markdown",
      "metadata": {
        "id": "vNRGenlu7NY-",
        "colab_type": "text"
      },
      "source": [
        "Read the file and split the data. Also remove spaces"
      ]
    },
    {
      "cell_type": "code",
      "metadata": {
        "id": "zv8Ip4vqfuvK",
        "colab_type": "code",
        "colab": {}
      },
      "source": [
        "browsing_data = spark.createDataFrame(\n",
        "    sc.textFile(\"browsing.txt\").map(lambda l: l.split('\\n')),\n",
        "    [\"basket\"]\n",
        ")\n",
        "items_in_browsing_data = sc.textFile(\"browsing.txt\").flatMap(lambda line: line.split(\" \"))\n",
        "items_in_browsing_data = items_in_browsing_data.filter(lambda x: x != \"\")\n"
      ],
      "execution_count": null,
      "outputs": []
    },
    {
      "cell_type": "code",
      "metadata": {
        "id": "q7IwtiUwgQQt",
        "colab_type": "code",
        "colab": {
          "base_uri": "https://localhost:8080/",
          "height": 35
        },
        "outputId": "6975efc9-1c30-4085-8d5e-d00e220b6ff8"
      },
      "source": [
        "items_in_browsing_data.take(5)"
      ],
      "execution_count": null,
      "outputs": [
        {
          "output_type": "execute_result",
          "data": {
            "text/plain": [
              "['FRO11987', 'ELE17451', 'ELE89019', 'SNA90258', 'GRO99222']"
            ]
          },
          "metadata": {
            "tags": []
          },
          "execution_count": 76
        }
      ]
    },
    {
      "cell_type": "markdown",
      "metadata": {
        "id": "qlv0f9zG7dE3",
        "colab_type": "text"
      },
      "source": [
        "Count the number if items which occur more than 100 times in all baskets"
      ]
    },
    {
      "cell_type": "code",
      "metadata": {
        "id": "VbTI9Aj-hMLO",
        "colab_type": "code",
        "colab": {}
      },
      "source": [
        "itemCount = items_in_browsing_data.map(lambda item: (item, 1)).reduceByKey(lambda a,b:a +b)\n",
        "itemCount = itemCount.filter(\n",
        "    lambda x: x[1]>=100\n",
        ")\n"
      ],
      "execution_count": null,
      "outputs": []
    },
    {
      "cell_type": "code",
      "metadata": {
        "id": "gfeXyx-6ij9b",
        "colab_type": "code",
        "colab": {}
      },
      "source": [
        "items_over_100 = itemCount.keys().collect()"
      ],
      "execution_count": null,
      "outputs": []
    },
    {
      "cell_type": "code",
      "metadata": {
        "id": "ajKdU5VViZVy",
        "colab_type": "code",
        "colab": {
          "base_uri": "https://localhost:8080/",
          "height": 35
        },
        "outputId": "82241044-b514-43cf-94d4-38b51aa939eb"
      },
      "source": [
        "len(items_over_100)"
      ],
      "execution_count": null,
      "outputs": [
        {
          "output_type": "execute_result",
          "data": {
            "text/plain": [
              "647"
            ]
          },
          "metadata": {
            "tags": []
          },
          "execution_count": 79
        }
      ]
    },
    {
      "cell_type": "markdown",
      "metadata": {
        "id": "tf8SNn5L7nwX",
        "colab_type": "text"
      },
      "source": [
        "Generate pairs out of the frequent single frequent items "
      ]
    },
    {
      "cell_type": "code",
      "metadata": {
        "id": "y6THCcD2Sglf",
        "colab_type": "code",
        "colab": {}
      },
      "source": [
        "pairs = list()\n",
        "for subset in combinations(items_over_100, 2):\n",
        "  subset = list(subset)\n",
        "  subset.sort()\n",
        "  pairs.append(tuple(subset))\n",
        "freq_pairs_of_items = pairs\n",
        "freq_pairs_of_items = dict(Counter(freq_pairs_of_items))"
      ],
      "execution_count": null,
      "outputs": []
    },
    {
      "cell_type": "markdown",
      "metadata": {
        "id": "gJoYUUiT8Bfx",
        "colab_type": "text"
      },
      "source": [
        "Get count of each of the pair in the baskets"
      ]
    },
    {
      "cell_type": "code",
      "metadata": {
        "colab_type": "code",
        "id": "PValjtFg9s3t",
        "colab": {}
      },
      "source": [
        "basket_pairs = {}\n",
        "all_baskets = sc.textFile(\"browsing.txt\").collect()\n",
        "for basket in all_baskets:\n",
        "  basket_list = basket.split(\" \")\n",
        "  basket_list.sort()\n",
        "  basket_list.remove('')\n",
        "  all_combinations = set(combinations(basket_list, 2))\n",
        "  for comb in all_combinations:\n",
        "    comb = list(comb)\n",
        "    comb.sort()\n",
        "    #if comb in pair_freq:\n",
        "    if pair_freq.get(tuple(comb)) != None: \n",
        "      if tuple(comb) not in basket_pairs.keys():\n",
        "        basket_pairs[tuple(comb)] = 1\n",
        "      else:\n",
        "        basket_pairs[tuple(comb)] += 1"
      ],
      "execution_count": null,
      "outputs": []
    },
    {
      "cell_type": "markdown",
      "metadata": {
        "id": "Va1jpR0-8FA2",
        "colab_type": "text"
      },
      "source": [
        "Filter the pairs which have counts more than 100."
      ]
    },
    {
      "cell_type": "code",
      "metadata": {
        "id": "Nu_UnoUuHxFk",
        "colab_type": "code",
        "colab": {}
      },
      "source": [
        "basket_pairs = {k:v for (k,v) in basket_pairs.items() if v >= 100}"
      ],
      "execution_count": null,
      "outputs": []
    },
    {
      "cell_type": "code",
      "metadata": {
        "id": "1M00QD4jdpA2",
        "colab_type": "code",
        "colab": {
          "base_uri": "https://localhost:8080/",
          "height": 35
        },
        "outputId": "e6651b2c-3861-43f3-cf9f-314cffa758a9"
      },
      "source": [
        "print(len(basket_pairs))"
      ],
      "execution_count": null,
      "outputs": [
        {
          "output_type": "stream",
          "text": [
            "1334\n"
          ],
          "name": "stdout"
        }
      ]
    },
    {
      "cell_type": "markdown",
      "metadata": {
        "id": "nQK8H6Oa8Uvy",
        "colab_type": "text"
      },
      "source": [
        "Calculate the confidence of each association"
      ]
    },
    {
      "cell_type": "code",
      "metadata": {
        "id": "NVuTwZUV-5rP",
        "colab_type": "code",
        "colab": {
          "base_uri": "https://localhost:8080/",
          "height": 123
        },
        "outputId": "5ac0da0a-ea08-43e2-a38f-581d4e639f4b"
      },
      "source": [
        "confidences=[]\n",
        "itemCount_df=itemCount.collect()\n",
        "itemCount_df=pd.DataFrame(itemCount_df,columns=['item','cnt'])\n",
        "for item in basket_pairs:\n",
        "  conf_A_to_B=(basket_pairs[tuple([item[0], item[1]])]/(itemCount_df.loc[itemCount_df['item'] == item[0], 'cnt'].iloc[0]))\n",
        "  confidences.append([item[0], item[1],conf_A_to_B])\n",
        "  conf_B_to_A=(basket_pairs[tuple([item[0], item[1]])]/(itemCount_df.loc[itemCount_df['item'] == item[1], 'cnt'].iloc[0]))\n",
        "  confidences.append([item[1], item[0],conf_B_to_A])\n",
        "confidences_df=pd.DataFrame(confidences,columns=['A','B',\"confidence\"])\n",
        "confidences_df= confidences_df.sort_values(\"confidence\",ascending=False)\n",
        "print(confidences_df[0:5])\n"
      ],
      "execution_count": null,
      "outputs": [
        {
          "output_type": "stream",
          "text": [
            "             A         B  confidence\n",
            "1258  DAI93865  FRO40251    1.000000\n",
            "267   GRO85051  FRO40251    0.999176\n",
            "251   GRO38636  FRO40251    0.990654\n",
            "1182  ELE12951  FRO40251    0.990566\n",
            "416   DAI88079  FRO40251    0.986726\n"
          ],
          "name": "stdout"
        }
      ]
    },
    {
      "cell_type": "markdown",
      "metadata": {
        "id": "67o_H_ju8pGv",
        "colab_type": "text"
      },
      "source": [
        "Generate the triplets out of the frequent pairs. Generate the triplets by self joining and checking whether the first element of the 2 pairs are equal."
      ]
    },
    {
      "cell_type": "code",
      "metadata": {
        "id": "ihwDZczVDZfs",
        "colab_type": "code",
        "colab": {}
      },
      "source": [
        "freq_triplets_of_items = list()\n",
        "for i in basket_pairs:\n",
        "  for j in basket_pairs:\n",
        "    tri=set(tuple([i[0],i[1],j[1]]))\n",
        "    if i[0]==j[0] and len(tri)==3 :\n",
        "      subset = list(tri)\n",
        "      subset.sort()\n",
        "      freq_triplets_of_items.append(tuple(subset))\n",
        "freq_triplets_of_items = dict(Counter(triplet_freq))\n"
      ],
      "execution_count": null,
      "outputs": []
    },
    {
      "cell_type": "code",
      "metadata": {
        "id": "fJRPtTrKqAd5",
        "colab_type": "code",
        "colab": {
          "base_uri": "https://localhost:8080/",
          "height": 35
        },
        "outputId": "d9a3fba2-cf85-45ae-89e9-fe4bd110454a"
      },
      "source": [
        "print(len(triplet_freq))"
      ],
      "execution_count": null,
      "outputs": [
        {
          "output_type": "stream",
          "text": [
            "53716\n"
          ],
          "name": "stdout"
        }
      ]
    },
    {
      "cell_type": "markdown",
      "metadata": {
        "id": "Uz2aasSY9CXw",
        "colab_type": "text"
      },
      "source": [
        "Finding the count of each triplet in all the baskets"
      ]
    },
    {
      "cell_type": "code",
      "metadata": {
        "id": "op0qGcRmU5rO",
        "colab_type": "code",
        "colab": {}
      },
      "source": [
        "basket_triplets = {}\n",
        "for basket in all_baskets:\n",
        "  basket_list = basket.split(\" \")\n",
        "  basket_list.remove('')\n",
        "  basket_list.sort()\n",
        "  all_combinations = set(combinations(basket_list, 3))\n",
        "  for comb in all_combinations:\n",
        "    comb = list(comb)\n",
        "    comb.sort()\n",
        "    if freq_triplets_of_items.get(tuple(comb)) != None: \n",
        "      if tuple(comb) not in basket_triplets.keys():\n",
        "        basket_triplets[tuple(comb)] = 1\n",
        "      else:\n",
        "        basket_triplets[tuple(comb)] += 1\n"
      ],
      "execution_count": null,
      "outputs": []
    },
    {
      "cell_type": "code",
      "metadata": {
        "id": "qFzfmi9TFNLa",
        "colab_type": "code",
        "colab": {
          "base_uri": "https://localhost:8080/",
          "height": 35
        },
        "outputId": "08a37369-6740-4a48-a33b-29ab89ffa899"
      },
      "source": [
        "len(basket_triplets)"
      ],
      "execution_count": null,
      "outputs": [
        {
          "output_type": "execute_result",
          "data": {
            "text/plain": [
              "26143"
            ]
          },
          "metadata": {
            "tags": []
          },
          "execution_count": 90
        }
      ]
    },
    {
      "cell_type": "markdown",
      "metadata": {
        "id": "E9QjVAeo9QKe",
        "colab_type": "text"
      },
      "source": [
        "Filter the triplets whose count is less than 100 in the baskets"
      ]
    },
    {
      "cell_type": "code",
      "metadata": {
        "id": "8b0D3hZLFa9k",
        "colab_type": "code",
        "colab": {}
      },
      "source": [
        "basket_triplets = {k:v for (k,v) in basket_triplets.items() if v >= 100}"
      ],
      "execution_count": null,
      "outputs": []
    },
    {
      "cell_type": "markdown",
      "metadata": {
        "id": "HNZyO8yqDQYP",
        "colab_type": "text"
      },
      "source": [
        "Calculating the confidences of triplets"
      ]
    },
    {
      "cell_type": "code",
      "metadata": {
        "id": "0MSmzgBgGo5j",
        "colab_type": "code",
        "colab": {
          "base_uri": "https://localhost:8080/",
          "height": 196
        },
        "outputId": "3bc3f065-c40e-496f-ef21-22ec4077345d"
      },
      "source": [
        "confidences=[]\n",
        "itemCount_df=itemCount.collect()\n",
        "itemCount_df=pd.DataFrame(itemCount_df,columns=['item','cnt'])\n",
        "for item in basket_triplets:\n",
        "  conf_AB_to_C=(basket_triplets[tuple([item[0], item[1], item[2]])]/(basket_pairs[tuple([item[0], item[1]])]))\n",
        "  confidences.append([[item[0], item[1]],item[2],conf_AB_to_C])\n",
        "  conf_BC_to_A=(basket_triplets[tuple([item[0], item[1], item[2]])]/(basket_pairs[tuple([item[1], item[2]])]))\n",
        "  confidences.append([[item[1], item[2]],item[0],conf_BC_to_A])\n",
        "  conf_CA_to_B=(basket_triplets[tuple([item[0], item[1], item[2]])]/(basket_pairs[tuple([item[0], item[2]])]))\n",
        "  confidences.append([[item[0], item[2]],item[1],conf_CA_to_B])\n",
        "confidences_df=pd.DataFrame(confidences,columns=['A','B',\"confidence\"])\n",
        "confidences_df[[\"A1\",\"A2\"]] = pd.DataFrame(confidences_df.A.values.tolist(), index= confidences_df.index)\n",
        "confidences_df=confidences_df.sort_values(by=[\"confidence\", 'A1','A2','B'],ascending=[False, True, True,True])\n",
        "confidences_df[0:5][['A','B','confidence']]"
      ],
      "execution_count": null,
      "outputs": [
        {
          "output_type": "execute_result",
          "data": {
            "text/html": [
              "<div>\n",
              "<style scoped>\n",
              "    .dataframe tbody tr th:only-of-type {\n",
              "        vertical-align: middle;\n",
              "    }\n",
              "\n",
              "    .dataframe tbody tr th {\n",
              "        vertical-align: top;\n",
              "    }\n",
              "\n",
              "    .dataframe thead th {\n",
              "        text-align: right;\n",
              "    }\n",
              "</style>\n",
              "<table border=\"1\" class=\"dataframe\">\n",
              "  <thead>\n",
              "    <tr style=\"text-align: right;\">\n",
              "      <th></th>\n",
              "      <th>A</th>\n",
              "      <th>B</th>\n",
              "      <th>confidence</th>\n",
              "    </tr>\n",
              "  </thead>\n",
              "  <tbody>\n",
              "    <tr>\n",
              "      <th>689</th>\n",
              "      <td>[DAI23334, ELE92920]</td>\n",
              "      <td>DAI62779</td>\n",
              "      <td>1.0</td>\n",
              "    </tr>\n",
              "    <tr>\n",
              "      <th>413</th>\n",
              "      <td>[DAI31081, GRO85051]</td>\n",
              "      <td>FRO40251</td>\n",
              "      <td>1.0</td>\n",
              "    </tr>\n",
              "    <tr>\n",
              "      <th>215</th>\n",
              "      <td>[DAI55911, GRO85051]</td>\n",
              "      <td>FRO40251</td>\n",
              "      <td>1.0</td>\n",
              "    </tr>\n",
              "    <tr>\n",
              "      <th>57</th>\n",
              "      <td>[DAI62779, DAI88079]</td>\n",
              "      <td>FRO40251</td>\n",
              "      <td>1.0</td>\n",
              "    </tr>\n",
              "    <tr>\n",
              "      <th>164</th>\n",
              "      <td>[DAI75645, GRO85051]</td>\n",
              "      <td>FRO40251</td>\n",
              "      <td>1.0</td>\n",
              "    </tr>\n",
              "  </tbody>\n",
              "</table>\n",
              "</div>"
            ],
            "text/plain": [
              "                        A         B  confidence\n",
              "689  [DAI23334, ELE92920]  DAI62779         1.0\n",
              "413  [DAI31081, GRO85051]  FRO40251         1.0\n",
              "215  [DAI55911, GRO85051]  FRO40251         1.0\n",
              "57   [DAI62779, DAI88079]  FRO40251         1.0\n",
              "164  [DAI75645, GRO85051]  FRO40251         1.0"
            ]
          },
          "metadata": {
            "tags": []
          },
          "execution_count": 92
        }
      ]
    }
  ]
}