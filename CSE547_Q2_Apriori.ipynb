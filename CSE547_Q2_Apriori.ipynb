{
  "nbformat": 4,
  "nbformat_minor": 0,
  "metadata": {
    "colab": {
      "name": "CSE547-Q2-Apriori.ipynb",
      "provenance": [],
      "collapsed_sections": [],
      "machine_shape": "hm",
      "authorship_tag": "ABX9TyMyiP86cexac4FNTThtM9fD",
      "include_colab_link": true
    },
    "kernelspec": {
      "name": "python3",
      "display_name": "Python 3"
    }
  },
  "cells": [
    {
      "cell_type": "markdown",
      "metadata": {
        "id": "view-in-github",
        "colab_type": "text"
      },
      "source": [
        "<a href=\"https://colab.research.google.com/github/medha-sagar/CSE547-BigDataForMachineLearning/blob/master/CSE547_Q2_Apriori.ipynb\" target=\"_parent\"><img src=\"https://colab.research.google.com/assets/colab-badge.svg\" alt=\"Open In Colab\"/></a>"
      ]
    },
    {
      "cell_type": "code",
      "metadata": {
        "id": "Eq39vg0Z0ag_",
        "colab_type": "code",
        "colab": {}
      },
      "source": [
        "#Get Dependencies for Google \n",
        "from pydrive.auth import GoogleAuth\n",
        "from pydrive.drive import GoogleDrive\n",
        "from google.colab import auth\n",
        "from oauth2client.client import GoogleCredentials\n",
        "\n",
        "# Authenticate and create the PyDrive client\n",
        "auth.authenticate_user()\n",
        "gauth = GoogleAuth()\n",
        "gauth.credentials = GoogleCredentials.get_application_default()\n",
        "drive = GoogleDrive(gauth)\n",
        "\n",
        "#Load Data\n",
        "id='1rqNLakXn3uthZtXvHSzD6s2xn-w0NscJ'\n",
        "downloaded = drive.CreateFile({'id': id})\n",
        "downloaded.GetContentFile('browsing.txt')"
      ],
      "execution_count": null,
      "outputs": []
    },
    {
      "cell_type": "code",
      "metadata": {
        "id": "M6JSNIypzTTr",
        "colab_type": "code",
        "colab": {
          "base_uri": "https://localhost:8080/",
          "height": 85
        },
        "outputId": "617790e1-0a73-4662-bbf7-3785886f9e3e"
      },
      "source": [
        "#Get Dependencies for Spark\n",
        "!pip install pyspark\n",
        "!pip install -U -q PyDrive\n",
        "!apt install openjdk-8-jdk-headless -qq\n",
        "import os\n",
        "os.environ[\"JAVA_HOME\"] = \"/usr/lib/jvm/java-8-openjdk-amd64\"\n",
        "\n",
        "#Get Dependencies for Spark\n",
        "import pyspark\n",
        "from pyspark.sql import *\n",
        "from pyspark.sql.functions import *\n",
        "from pyspark import SparkContext\n",
        "import pandas as pd\n",
        "import numpy as np\n",
        "import matplotlib.pyplot as plt\n",
        "from itertools import combinations\n",
        "from collections import Counter\n",
        "\n",
        "%matplotlib inline\n",
        "\n",
        "# create the Spark Session\n",
        "spark = SparkSession.builder.getOrCreate()\n",
        "\n",
        "# create the Spark Context\n",
        "sc = spark.sparkContext"
      ],
      "execution_count": null,
      "outputs": [
        {
          "output_type": "stream",
          "text": [
            "Requirement already satisfied: pyspark in /usr/local/lib/python3.6/dist-packages (2.4.5)\n",
            "Requirement already satisfied: py4j==0.10.7 in /usr/local/lib/python3.6/dist-packages (from pyspark) (0.10.7)\n",
            "openjdk-8-jdk-headless is already the newest version (8u242-b08-0ubuntu3~18.04).\n",
            "0 upgraded, 0 newly installed, 0 to remove and 25 not upgraded.\n"
          ],
          "name": "stdout"
        }
      ]
    },
    {
      "cell_type": "code",
      "metadata": {
        "id": "RmK2G8nj04qh",
        "colab_type": "code",
        "colab": {}
      },
      "source": [
        "browsing = sc.textFile(\"browsing.txt\")\n",
        "browsing_list = browsing.collect()"
      ],
      "execution_count": null,
      "outputs": []
    },
    {
      "cell_type": "code",
      "metadata": {
        "id": "GiCb3F7Q4hqs",
        "colab_type": "code",
        "colab": {}
      },
      "source": [
        "items = browsing.flatMap(lambda browsing: browsing.split(\" \"))\n",
        "items = items.filter(lambda item: item not in \"\")"
      ],
      "execution_count": null,
      "outputs": []
    },
    {
      "cell_type": "code",
      "metadata": {
        "id": "BjTW9H7k_D5W",
        "colab_type": "code",
        "colab": {}
      },
      "source": [
        "#Item Frequency\n",
        "itemFreq = items.map(lambda item: (item, 1)).reduceByKey(lambda a,b:a +b)\n",
        "itemFreqDict = itemFreq.collectAsMap()\n",
        "itemFreqDict100 = {k:v for (k,v) in itemFreqDict.items() if v >= 100}"
      ],
      "execution_count": null,
      "outputs": []
    },
    {
      "cell_type": "code",
      "metadata": {
        "id": "JOF0G7gIQTqK",
        "colab_type": "code",
        "colab": {
          "base_uri": "https://localhost:8080/",
          "height": 51
        },
        "outputId": "3430b556-6328-4e62-8eb4-a7b1ba7dff60"
      },
      "source": [
        "print(len(itemFreq.collect()))\n",
        "print(len(itemFreqDict100))"
      ],
      "execution_count": null,
      "outputs": [
        {
          "output_type": "stream",
          "text": [
            "12592\n",
            "647\n"
          ],
          "name": "stdout"
        }
      ]
    },
    {
      "cell_type": "code",
      "metadata": {
        "id": "LU3ox1pCTlgh",
        "colab_type": "code",
        "colab": {}
      },
      "source": [
        "#Create item item_pair frequency\n",
        "item_pair_100_combinations = set(combinations(itemFreqDict100.keys(), 2))"
      ],
      "execution_count": null,
      "outputs": []
    },
    {
      "cell_type": "code",
      "metadata": {
        "id": "PIzPSUDIUupI",
        "colab_type": "code",
        "colab": {}
      },
      "source": [
        "temp = []\n",
        "for item_pair in item_pair_100_combinations:\n",
        "  temp.append(tuple(sorted(item_pair)))\n",
        "item_pair_100C_dict =  Counter(temp)"
      ],
      "execution_count": null,
      "outputs": []
    },
    {
      "cell_type": "code",
      "metadata": {
        "id": "KDySpDm5YVxV",
        "colab_type": "code",
        "colab": {}
      },
      "source": [
        "basket_pairs = {}\n",
        "for basket in browsing_list:\n",
        "  basket_item_list = sorted(basket.split(\" \")[:-1])\n",
        "  basket_combinations = combinations(basket_item_list,2)\n",
        "  for basket_combination in basket_combinations:\n",
        "    if tuple(basket_combination) in item_pair_100C_dict.keys():\n",
        "      if tuple(sorted(basket_combination)) in basket_pairs.keys():\n",
        "        basket_pairs[tuple(basket_combination)] +=1\n",
        "      else:\n",
        "        basket_pairs[tuple(basket_combination)] = 1"
      ],
      "execution_count": null,
      "outputs": []
    },
    {
      "cell_type": "code",
      "metadata": {
        "id": "1vITnrsldCiP",
        "colab_type": "code",
        "colab": {}
      },
      "source": [
        "basket_pairs = {k:v for (k,v) in basket_pairs.items() if v >= 100}"
      ],
      "execution_count": null,
      "outputs": []
    },
    {
      "cell_type": "code",
      "metadata": {
        "id": "-j3y8eLMkwaN",
        "colab_type": "code",
        "colab": {}
      },
      "source": [
        "list_pair = [list(pair) for pair in item_pair_100C_dict.keys()]"
      ],
      "execution_count": null,
      "outputs": []
    },
    {
      "cell_type": "code",
      "metadata": {
        "id": "FFTYfUKKgiA6",
        "colab_type": "code",
        "colab": {}
      },
      "source": [
        "common_items = []\n",
        "for k, v in basket_pairs.items():\n",
        "  if [k[0],k[1]] in list_pair:\n",
        "    common_items.append(k)"
      ],
      "execution_count": null,
      "outputs": []
    },
    {
      "cell_type": "code",
      "metadata": {
        "id": "iChcjjtLipib",
        "colab_type": "code",
        "colab": {}
      },
      "source": [
        "df = pd.DataFrame(\n",
        "    [common_item[0], common_item[1], basket_pairs[tuple([common_item[0], common_item[1]])]/itemFreqDict100[common_item[0]]] for common_item in common_items\n",
        ")\n",
        "\n",
        "df2 = pd.DataFrame(\n",
        "    [common_item[0], common_item[1], basket_pairs[tuple([common_item[0], common_item[1]])]/itemFreqDict100[common_item[1]]] for common_item in common_items\n",
        ")\n",
        "\n",
        "res = df.append(df2)"
      ],
      "execution_count": null,
      "outputs": []
    },
    {
      "cell_type": "code",
      "metadata": {
        "id": "RQdewY2clGSo",
        "colab_type": "code",
        "colab": {
          "base_uri": "https://localhost:8080/",
          "height": 119
        },
        "outputId": "60908d54-a75a-47d0-c88e-164e55234867"
      },
      "source": [
        "res.columns = [\"itemA\", \"itemB\", \"Conf\"]\n",
        "print(res.sort_values(\"Conf\",ascending=False).head(5))"
      ],
      "execution_count": null,
      "outputs": [
        {
          "output_type": "stream",
          "text": [
            "        itemA     itemB      Conf\n",
            "624  DAI93865  FRO40251  1.000000\n",
            "134  FRO40251  GRO85051  0.999176\n",
            "130  FRO40251  GRO38636  0.990654\n",
            "591  ELE12951  FRO40251  0.990566\n",
            "208  DAI88079  FRO40251  0.986726\n"
          ],
          "name": "stdout"
        }
      ]
    },
    {
      "cell_type": "code",
      "metadata": {
        "id": "GuRpSG6Wm3LC",
        "colab_type": "code",
        "colab": {
          "base_uri": "https://localhost:8080/",
          "height": 34
        },
        "outputId": "efc23afc-955b-42dc-9979-7ff35740b26b"
      },
      "source": [
        "#Create item item_pair frequency\n",
        "item_tri_100_combinations = set(combinations(itemFreqDict100.keys(), 3))\n",
        "temp1 = []\n",
        "for item_tri in item_tri_100_combinations:\n",
        "  temp1.append(tuple(sorted(list(item_tri))))\n",
        "item_tri_100C_dict =  Counter(temp1)\n",
        "len(item_tri_100C_dict)"
      ],
      "execution_count": null,
      "outputs": [
        {
          "output_type": "execute_result",
          "data": {
            "text/plain": [
              "44930915"
            ]
          },
          "metadata": {
            "tags": []
          },
          "execution_count": 15
        }
      ]
    },
    {
      "cell_type": "code",
      "metadata": {
        "id": "IhQ8XdMVx59h",
        "colab_type": "code",
        "colab": {
          "base_uri": "https://localhost:8080/",
          "height": 34
        },
        "outputId": "e0224128-4f9f-4365-aa37-6598d858d9b2"
      },
      "source": [
        "len(item_tri_100C_dict)"
      ],
      "execution_count": null,
      "outputs": [
        {
          "output_type": "execute_result",
          "data": {
            "text/plain": [
              "44930915"
            ]
          },
          "metadata": {
            "tags": []
          },
          "execution_count": 16
        }
      ]
    },
    {
      "cell_type": "code",
      "metadata": {
        "id": "5LLs0fI2sG2R",
        "colab_type": "code",
        "colab": {}
      },
      "source": [
        "#item_tri_100C_dict = {k:v for (k,v) in item_tri_100C_dict.items() if v >= 100}"
      ],
      "execution_count": null,
      "outputs": []
    },
    {
      "cell_type": "code",
      "metadata": {
        "id": "QdtAdUM5xr3t",
        "colab_type": "code",
        "colab": {
          "base_uri": "https://localhost:8080/",
          "height": 34
        },
        "outputId": "ddd5a726-5341-48fa-84f2-d916ac687fcb"
      },
      "source": [
        "print(temp1[1:2])"
      ],
      "execution_count": null,
      "outputs": [
        {
          "output_type": "stream",
          "text": [
            "[('FRO61250', 'FRO71487', 'SNA38046')]\n"
          ],
          "name": "stdout"
        }
      ]
    },
    {
      "cell_type": "code",
      "metadata": {
        "id": "Asqsy4PqliI6",
        "colab_type": "code",
        "colab": {}
      },
      "source": [
        "basket_three_items = {}\n",
        "for basket in browsing_list:\n",
        "  basket_item_list = sorted(basket.split(\" \")[:-1])\n",
        "  basket_combinations = combinations(basket_item_list,3)\n",
        "  for basket_combination in basket_combinations:\n",
        "    if tuple(basket_combination) in item_tri_100C_dict.keys():\n",
        "      if tuple(sorted(basket_combination)) in basket_three_items.keys():\n",
        "        basket_three_items[tuple(basket_combination)] +=1\n",
        "      else:\n",
        "        basket_three_items[tuple(basket_combination)] = 1  \n"
      ],
      "execution_count": null,
      "outputs": []
    },
    {
      "cell_type": "code",
      "metadata": {
        "id": "Daa3ixqGpUVj",
        "colab_type": "code",
        "colab": {}
      },
      "source": [
        "basket_triplets = basket_three_items"
      ],
      "execution_count": null,
      "outputs": []
    },
    {
      "cell_type": "code",
      "metadata": {
        "id": "6kBYnp0BpXYR",
        "colab_type": "code",
        "colab": {}
      },
      "source": [
        "basket_triplets = {k:v for (k,v) in basket_triplets.items() if v >= 100}"
      ],
      "execution_count": null,
      "outputs": []
    },
    {
      "cell_type": "code",
      "metadata": {
        "id": "bkTpe_Biugwl",
        "colab_type": "code",
        "colab": {
          "base_uri": "https://localhost:8080/",
          "height": 34
        },
        "outputId": "0d691836-c7c3-43a2-9317-c16ff4f996e7"
      },
      "source": [
        "len(basket_triplets)"
      ],
      "execution_count": null,
      "outputs": [
        {
          "output_type": "execute_result",
          "data": {
            "text/plain": [
              "233"
            ]
          },
          "metadata": {
            "tags": []
          },
          "execution_count": 22
        }
      ]
    },
    {
      "cell_type": "code",
      "metadata": {
        "id": "165ud5uhukmn",
        "colab_type": "code",
        "colab": {}
      },
      "source": [
        "list_triplets = [list(triplet) for triplet in item_tri_100C_dict.keys()]"
      ],
      "execution_count": null,
      "outputs": []
    },
    {
      "cell_type": "code",
      "metadata": {
        "id": "hjXn2i95uuTm",
        "colab_type": "code",
        "colab": {}
      },
      "source": [
        "common_triplets = []\n",
        "for k, v in basket_triplets.items():\n",
        "  if [k[0],k[1],k[2]] in list_triplets:\n",
        "    common_triplets.append(k)"
      ],
      "execution_count": null,
      "outputs": []
    },
    {
      "cell_type": "code",
      "metadata": {
        "id": "sSAtWZekvF1M",
        "colab_type": "code",
        "colab": {}
      },
      "source": [
        "df1 = df = pd.DataFrame(\n",
        "    [common_triplet[0], common_triplet[1], common_triplet[2], basket_triplets[tuple([common_triplet[0], common_triplet[1], common_triplet[2]])]/basket_pairs[tuple([common_triplet[0], common_triplet[1]])]] for common_triplet in common_triplets\n",
        ")\n",
        "\n",
        "df2 = df = pd.DataFrame(\n",
        "    [common_triplet[1], common_triplet[2], common_triplet[0], basket_triplets[tuple([common_triplet[0], common_triplet[1], common_triplet[2]])]/basket_pairs[tuple([common_triplet[1], common_triplet[2]])]] for common_triplet in common_triplets\n",
        ")\n",
        "\n",
        "df3 = df = pd.DataFrame(\n",
        "    [common_triplet[0], common_triplet[2], common_triplet[1], basket_triplets[tuple([common_triplet[0], common_triplet[1], common_triplet[2]])]/basket_pairs[tuple([common_triplet[0], common_triplet[2]])]] for common_triplet in common_triplets\n",
        ")\n",
        "\n",
        "\n",
        "res2 = df1.append(df3)"
      ],
      "execution_count": null,
      "outputs": []
    },
    {
      "cell_type": "code",
      "metadata": {
        "id": "wQPvOhtKvImo",
        "colab_type": "code",
        "colab": {
          "base_uri": "https://localhost:8080/",
          "height": 119
        },
        "outputId": "9ada8a45-045e-4930-e75d-0a0c4d85f4f6"
      },
      "source": [
        "res2.columns = [\"itemA\", \"itemB\", \"itemC\", \"Conf\"]\n",
        "print(res2.sort_values([\"Conf\", \"itemA\", \"itemB\", \"itemC\"], ascending=[False, True, True, True]).head(5))"
      ],
      "execution_count": null,
      "outputs": [
        {
          "output_type": "stream",
          "text": [
            "        itemA     itemB     itemC  Conf\n",
            "229  DAI23334  ELE92920  DAI62779   1.0\n",
            "137  DAI31081  GRO85051  FRO40251   1.0\n",
            "71   DAI55911  GRO85051  FRO40251   1.0\n",
            "17   DAI62779  DAI88079  FRO40251   1.0\n",
            "52   DAI75645  GRO85051  FRO40251   1.0\n"
          ],
          "name": "stdout"
        }
      ]
    }
  ]
}